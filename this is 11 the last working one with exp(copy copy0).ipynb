{
 "cells": [
  {
   "cell_type": "code",
   "execution_count": 1,
   "metadata": {
    "collapsed": false
   },
   "outputs": [
    {
     "name": "stderr",
     "output_type": "stream",
     "text": [
      "Vendor:  Continuum Analytics, Inc.\n",
      "Package: mkl\n",
      "Message: trial mode expires in 30 days\n"
     ]
    }
   ],
   "source": [
    "import numpy as np\n",
    "import copy as cp\n",
    "import random\n",
    "from graphics import *\n",
    "from numpy import *\n",
    "from datetime import datetime, date, time\n",
    "\n",
    "import cmath\n",
    "\n",
    "import sys\n",
    "\n",
    "import math\n",
    "import pylab\n",
    "from matplotlib import mlab\n",
    "import matplotlib.pyplot as plt\n"
   ]
  },
  {
   "cell_type": "code",
   "execution_count": 2,
   "metadata": {
    "collapsed": false
   },
   "outputs": [],
   "source": [
    "class tree:\n",
    "    def __init__(self, data = 0, N = None, l = None, lm = None, rm = None, r = None, flag = 0):\n",
    "        self.flag = flag\n",
    "        self.data = data\n",
    "        self.N = N\n",
    "        self.l  = l \n",
    "        self.lm = lm\n",
    "        self.rm = rm\n",
    "        self.r  = r\n",
    "        \n",
    "\n",
    "    def create_tree (self, x, y): \n",
    "        n0=0;n1=0;n2=0;n3=0\n",
    "        n_0 = [];n_1 = [];n_2 = [];n_3 = []\n",
    "\n",
    "        self.l = None\n",
    "        self.lm = None\n",
    "        self.rm = None\n",
    "        self.r = None\n",
    "\n",
    "        if self.N[1] > 1:    \n",
    "            xm = self.N[2][0]\n",
    "            ym = self.N[2][1]\n",
    "            \n",
    "            for j in range (0,self.N[1]):\n",
    "                i = self.data[j]\n",
    "                if x[i] < xm:    \n",
    "                    if y[i] < ym:\n",
    "                        n_0.append(i)\n",
    "                        n0=n0+1\n",
    "                    else:\n",
    "                        n_1.append(i)\n",
    "                        n1=n1+1\n",
    "                else:\n",
    "                    if y[i] >= ym:\n",
    "                        n_2.append(i)\n",
    "                        n2=n2+1\n",
    "                    else:\n",
    "                        n_3.append(i)\n",
    "                        n3=n3+1\n",
    "                        \n",
    "            if n0>0:\n",
    "                self.l = tree(n_0,[0+self.N[0], n0, None, None])\n",
    "            if n1>0:\n",
    "                self.lm = tree(n_1, [n0+self.N[0], n1, None, None])\n",
    "            if n2>0:\n",
    "                self.rm = tree(n_2, [n0+n1+self.N[0], n2, None, None])\n",
    "            if n3>0:\n",
    "                self.r = tree(n_3, [n0+n1+n2+self.N[0], n3, None, None])\n",
    "\n"
   ]
  },
  {
   "cell_type": "code",
   "execution_count": 3,
   "metadata": {
    "collapsed": false
   },
   "outputs": [],
   "source": [
    "def mid (t, x,y):    \n",
    "    if t.N[2] == None:\n",
    "        t.N[2] = [0,0]            \n",
    "        for i in range(0, t.N[1]):\n",
    "            t.N[2][0] = t.N[2][0] + x[t.data[i]]\n",
    "            t.N[2][1] = t.N[2][1] + y[t.data[i]]\n",
    "        t.N[2][0] = t.N[2][0]/t.N[1]\n",
    "        t.N[2][1] = t.N[2][1]/t.N[1]\n",
    "        \n",
    "    if (t.N[3] == None):\n",
    "        xmax = x[t.data[0]]; xmin = x[t.data[0]]; ymax = y[t.data[0]]; ymin = y[t.data[0]];\n",
    "        for j in range (0,t.N[1]):\n",
    "            i = t.data[j]\n",
    "            xmax = max(x[i],xmax)\n",
    "            ymax = max(y[i],ymax)\n",
    "            xmin = min(x[i],xmin)\n",
    "            ymin = min(y[i],ymin)\n",
    "        t.N[3] = [xmax, ymax, xmin, ymin]\n",
    "    return t.N\n",
    "     \n"
   ]
  },
  {
   "cell_type": "code",
   "execution_count": 74,
   "metadata": {
    "collapsed": false
   },
   "outputs": [],
   "source": [
    "def count_svd (R, V):\n",
    "    global k\n",
    "    global eps\n",
    "    B = np.zeros((R.N[1], V.N[1]), dtype = complex)\n",
    "    for i in range (0, R.N[1]):\n",
    "        for j in range (0, V.N[1]):\n",
    "            lenght = ((x1[R.data[i]]-x2[V.data[j]])**2+(y1[R.data[i]]-y2[V.data[j]])**2)**0.5\n",
    "           # interaction = cmath.exp(complex(0,1)*5*lenght)/lenght\n",
    "            if lenght <> 0:\n",
    "                B[i][j] = cmath.exp(complex(0,1)*k*lenght)/lenght\n",
    "            else:\n",
    "                B[i][j] = 0\n",
    "                \n",
    "    U,s,V = np.linalg.svd(B)\n",
    "\n",
    "\n",
    "    summ_s = sum(s)\n",
    "    summ_1 = 0.\n",
    "\n",
    "#    l = len(s)-1\n",
    "#    for i in range (0, len(s)):\n",
    "#        if summ_1/summ_s<=1 - eps:\n",
    "#            l = i\n",
    "#            summ_1 = summ_1 +s[-l]\n",
    "################\n",
    "\n",
    "    #l = len(s)-1\n",
    "    rank = len(s)\n",
    "    for i in xrange(len(s)):\n",
    "        if s[i]/s[0] <=  eps:\n",
    "            #l = i\n",
    "            rank = i + 1\n",
    "            break\n",
    "    s = s[0:rank]\n",
    "    S = np.zeros((s.shape[0], s.shape[0]), complex)\n",
    "    S[:s.shape[0], :s.shape[0]] = np.diag(s)\n",
    "\n",
    "    U1 = np.zeros((U.shape[0], rank), complex)\n",
    "    for i in range(0,U.shape[0]):\n",
    "        for j in range (0,rank):\n",
    "            U1[i][j]=U[i][j]\n",
    "    U = U1\n",
    "    V = V[0:rank][:]\n",
    "#####################\n",
    "#    s = s[0:l+1]\n",
    "\n",
    "#    U1 = np.zeros((U.shape[0], l+1), complex)\n",
    "#    for i in range(0,U.shape[0]):\n",
    "#        for j in range (0,l+1):\n",
    "#            U1[i][j]=U[i][j]\n",
    "#    U = U1\n",
    "#    V = V[0:l+1][:]\n",
    "\n",
    "    #print np.linalg.matrix_rank(U)\n",
    "    \n",
    "    return U,s,V\n",
    "    \n",
    "        \n"
   ]
  },
  {
   "cell_type": "code",
   "execution_count": 87,
   "metadata": {
    "collapsed": false
   },
   "outputs": [],
   "source": [
    "def pre_count_A (R, V):\n",
    "    \n",
    "    global d\n",
    "    global C0\n",
    "    global k\n",
    "    \n",
    "    R.N = mid(R, x1, y1)\n",
    "    V.N = mid(V, x2, y2)\n",
    "\n",
    "    lenghtR = ((R.N[3][0] - R.N[3][2])**2 + (R.N[3][1] - R.N[3][3])**2)**0.5\n",
    "    lenghtV = ((V.N[3][0] - V.N[3][2])**2 + (V.N[3][1] - V.N[3][3])**2)**0.5\n",
    "\n",
    "    lenght = ((R.N[2][0] - V.N[2][0])**2 + (R.N[2][1] - V.N[2][1])**2)**0.5\n",
    "    \n",
    "    d = max(lenghtR, lenghtV)\n",
    "\n",
    "    if (max(d*k/(2*pi), C0)*d>=lenght):\n",
    "    #if d>=lenght:\n",
    "        if(R.l==None)&(R.lm==None)&(R.rm==None)&(R.r==None):\n",
    "            R.create_tree(x1, y1)\n",
    "        if(V.l==None)&(V.lm==None)&(V.rm==None)&(V.r==None):\n",
    "            V.create_tree(x2, y2)\n",
    "\n",
    "        n_R_0 =[]; n_R_1 =[]; n_R_2 =[]; n_R_3 =[]; n_V_0 =[]; n_V_1 =[]; n_V_2 =[]; n_V_3 =[]\n",
    "        \n",
    "        \n",
    "        if (R.N[1]>1):\n",
    "            if (V.N[1]>1):\n",
    "                p = 0#k#!!!!!!!!!!!!!!!!!!!!!!!!!!!!!!!!!\n",
    "                if (R.l<>None):\n",
    "                    if (V.l<>None):\n",
    "                        pre_count_A(R.l, V.l)\n",
    "                    if (V.lm<>None):\n",
    "                        pre_count_A(R.l, V.lm)\n",
    "                    if (V.rm<>None):\n",
    "                        pre_count_A(R.l, V.rm)\n",
    "                    if (V.r<>None):\n",
    "                        pre_count_A(R.l, V.r)\n",
    "\n",
    "\n",
    "\n",
    "                if (R.lm<>None):\n",
    "                    if (V.l<>None):\n",
    "                        pre_count_A(R.lm, V.l)\n",
    "                    if (V.lm<>None):\n",
    "                        pre_count_A(R.lm, V.lm)\n",
    "                    if (V.rm<>None):\n",
    "                        pre_count_A(R.lm, V.rm)\n",
    "                    if (V.r<>None):\n",
    "                        pre_count_A(R.lm, V.r)\n",
    "                  \n",
    "                    \n",
    "                if (R.rm<>None):\n",
    "                    if (V.l<>None):\n",
    "                        pre_count_A(R.rm, V.l)\n",
    "                    if (V.lm<>None):\n",
    "                        pre_count_A(R.rm, V.lm)\n",
    "                    if (V.rm<>None):\n",
    "                        pre_count_A(R.rm, V.rm)\n",
    "                    if (V.r<>None):\n",
    "                        pre_count_A(R.rm, V.r)\n",
    "                   \n",
    "                    \n",
    "                if (R.r<>None):\n",
    "                    if (V.l<>None):\n",
    "                        pre_count_A(R.r, V.l)\n",
    "                    if (V.lm<>None):\n",
    "                        pre_count_A(R.r, V.lm)\n",
    "                    if (V.rm<>None):\n",
    "                        pre_count_A(R.r, V.rm)\n",
    "                    if (V.r<>None):\n",
    "                        pre_count_A(R.r, V.r)\n",
    "                    \n",
    "            else:\n",
    "               \n",
    "                if (R.l<>None):\n",
    "                   pre_count_A(R.l, V)\n",
    "                if (R.lm<>None):\n",
    "                   pre_count_A(R.lm, V)\n",
    "                if (R.rm<>None):\n",
    "                   pre_count_A(R.rm, V)\n",
    "                if (R.r<>None):\n",
    "                   pre_count_A(R.r, V)\n",
    "                \n",
    "        else:\n",
    "            if (V.N[1]>1):\n",
    "                  \n",
    "                if (V.l<>None):\n",
    "                   pre_count_A(R, V.l)\n",
    "                if (V.lm<>None):\n",
    "                   pre_count_A(R, V.lm)\n",
    "                if (V.rm<>None):\n",
    "                   pre_count_A(R, V.rm)\n",
    "                if (V.r<>None):\n",
    "                   pre_count_A(R, V.r)\n",
    "                \n",
    "            \n",
    "        flag = 0\n",
    "        if R.flag > -1:\n",
    "            if (R.l<>None):\n",
    "                n_R_0 = R.l.data\n",
    "                flag = flag + 1\n",
    "            if (R.lm<>None):\n",
    "                n_R_1 = R.lm.data\n",
    "                flag = flag + 1\n",
    "            if (R.rm<>None):\n",
    "                n_R_2 = R.rm.data\n",
    "                flag = flag + 1\n",
    "            if (R.r<>None):\n",
    "                n_R_3 = R.r.data\n",
    "                flag = flag + 1\n",
    "            if flag > 0:\n",
    "                R.data = n_R_0 + n_R_1 + n_R_2 + n_R_3\n",
    "            R.flag = R.flag + 1\n",
    "        \n",
    "        \n",
    "        flag = 0\n",
    "        if V.flag > -1:\n",
    "            if (V.l<>None):\n",
    "                n_V_0 = V.l.data\n",
    "                flag = flag + 1\n",
    "            if (V.lm<>None):\n",
    "                n_V_1 = V.lm.data\n",
    "                flag = flag + 1\n",
    "            if (V.rm<>None):\n",
    "                n_V_2 = V.rm.data\n",
    "                flag = flag + 1\n",
    "            if (V.r<>None):\n",
    "                n_V_3 = V.r.data\n",
    "                flag = flag + 1\n",
    "            if flag > 0:\n",
    "                V.data = n_V_0 + n_V_1 + n_V_2 + n_V_3\n",
    "            V.flag = V.flag + 1\n",
    "  \n"
   ]
  },
  {
   "cell_type": "code",
   "execution_count": 88,
   "metadata": {
    "collapsed": false
   },
   "outputs": [],
   "source": [
    "#%matplotlib inline\n",
    "def count_A (R, V):\n",
    "    \n",
    "    global k\n",
    "\n",
    "    R.N = mid(R, x1, y1)\n",
    "    V.N = mid(V, x2, y2)\n",
    "\n",
    "    lenghtR = ((R.N[3][0] - R.N[3][2])**2 + (R.N[3][1] - R.N[3][3])**2)**0.5\n",
    "    lenghtV = ((V.N[3][0] - V.N[3][2])**2 + (V.N[3][1] - V.N[3][3])**2)**0.5\n",
    "\n",
    "    lenght = ((R.N[2][0] - V.N[2][0])**2 + (R.N[2][1] - V.N[2][1])**2)**0.5\n",
    "    \n",
    "    d = max(lenghtR, lenghtV)\n",
    "\n",
    "    if (max(d*k/(2*pi),C0)*d <lenght):\n",
    "    #if d<lenght:    \n",
    "        \n",
    "        A = [count_svd(R, V)]\n",
    "    else:\n",
    "        A = []        \n",
    "        \n",
    "        if (R.N[1]>1):\n",
    "            if (V.N[1]>1):\n",
    "                p = 0\n",
    "                if (R.l<>None):\n",
    "                    A = A+[[]]\n",
    "                    if (V.l<>None):\n",
    "                        A[p] = A[p] + [count_A(R.l, V.l)]\n",
    "                    if (V.lm<>None):\n",
    "                        A[p] = A[p] + [count_A(R.l, V.lm)]\n",
    "                    if (V.rm<>None):\n",
    "                        A[p] = A[p] + [count_A(R.l, V.rm)]\n",
    "                    if (V.r<>None):\n",
    "                        A[p] = A[p] + [count_A(R.l, V.r)]\n",
    "                    p = p+1\n",
    "\n",
    "\n",
    "                if (R.lm<>None):\n",
    "                    A = A + [[]]\n",
    "                    if (V.l<>None):\n",
    "                       A[p] = A[p] + [count_A(R.lm, V.l)]\n",
    "                    if (V.lm<>None):\n",
    "                       A[p] = A[p] + [count_A(R.lm, V.lm)]\n",
    "                    if (V.rm<>None):\n",
    "                       A[p] = A[p] + [count_A(R.lm, V.rm)]\n",
    "                    if (V.r<>None):\n",
    "                       A[p] = A[p] + [count_A(R.lm, V.r)]\n",
    "                    p = p+1\n",
    "                    \n",
    "                if (R.rm<>None):\n",
    "                    A = A + [[]]\n",
    "                    if (V.l<>None):\n",
    "                       A[p] = A[p] + [count_A(R.rm, V.l)]\n",
    "                    if (V.lm<>None):\n",
    "                       A[p] = A[p] + [count_A(R.rm, V.lm)]\n",
    "                    if (V.rm<>None):\n",
    "                       A[p] = A[p] + [count_A(R.rm, V.rm)]\n",
    "                    if (V.r<>None):\n",
    "                       A[p] = A[p] + [count_A(R.rm, V.r)]\n",
    "                    p = p+1\n",
    "                    \n",
    "                if (R.r<>None):\n",
    "                    A = A + [[]]\n",
    "                    if (V.l<>None):\n",
    "                       A[p] = A[p] + [count_A(R.r, V.l)]\n",
    "                    if (V.lm<>None):\n",
    "                       A[p] = A[p] + [count_A(R.r, V.lm)]\n",
    "                    if (V.rm<>None):\n",
    "                       A[p] = A[p] + [count_A(R.r, V.rm)]\n",
    "                    if (V.r<>None):\n",
    "                       A[p] = A[p] + [count_A(R.r, V.r)]\n",
    "                    \n",
    "            else:\n",
    "                A = A + []\n",
    "                if (R.l<>None):\n",
    "                   A = A + [[count_A(R.l, V)]]\n",
    "                if (R.lm<>None):\n",
    "                   A = A + [[count_A(R.lm, V)]]\n",
    "                if (R.rm<>None):\n",
    "                   A = A + [[count_A(R.rm, V)]]\n",
    "                if (R.r<>None):\n",
    "                   A = A + [[count_A(R.r, V)]]\n",
    "                \n",
    "        else:\n",
    "            if (V.N[1]>1):\n",
    "                A = A + [[]]    \n",
    "                if (V.l<>None):\n",
    "                   A[0] = A[0] + [count_A(R, V.l)]\n",
    "                if (V.lm<>None):\n",
    "                   A[0] = A[0] + [count_A(R, V.lm)]\n",
    "                if (V.rm<>None):\n",
    "                   A[0] = A[0] + [count_A(R, V.rm)]\n",
    "                if (V.r<>None):\n",
    "                   A[0] = A[0] + [count_A(R, V.r)]\n",
    "                \n",
    "            else:\n",
    "                A = [[0]]\n",
    "              \n",
    "    return A\n"
   ]
  },
  {
   "cell_type": "code",
   "execution_count": 77,
   "metadata": {
    "collapsed": false
   },
   "outputs": [],
   "source": [
    "def summ(a,b):\n",
    "    res = []\n",
    "    for i in range(0, len(a)):\n",
    "        res.append(a[i]+b[i])\n",
    "    return res\n"
   ]
  },
  {
   "cell_type": "code",
   "execution_count": 78,
   "metadata": {
    "collapsed": false
   },
   "outputs": [],
   "source": [
    "def dot_Mx(A, x, w):\n",
    "    M = cp.deepcopy(A)\n",
    "    if (type(M) == tuple):\n",
    "        U, s, V = M\n",
    "        S = np.zeros((U.shape[1], V.shape[0]), complex)\n",
    "        S[:s.shape[0], :s.shape[0]] = np.diag(s)\n",
    "        n = V.shape[1]\n",
    "        f = np.dot(np.dot(np.dot(U,S),V),x[w:w+n]).tolist()\n",
    "    if M == 0:\n",
    "        f = [0]\n",
    "        n = 1\n",
    "    if type(M) == list:\n",
    "        if M == [0]:\n",
    "            f = [0]\n",
    "            n = 1\n",
    "        if M == []:\n",
    "            f = []\n",
    "            n = 0\n",
    "        else:            \n",
    "            string = M.pop(0)\n",
    "            M3 = M\n",
    "            if (len(string)<>0)and(type(string)<>tuple):\n",
    "                M1 = string.pop(0)\n",
    "                M2 = [string]\n",
    "            else:\n",
    "                M1 = string\n",
    "                M2 = []\n",
    "            (f1, n1) = dot_Mx(M1, x, w)\n",
    "            (f2, n2) = dot_Mx(M2, x, w+n1)\n",
    "            (f3, n3) = dot_Mx(M3, x, w)\n",
    "            \n",
    "            \n",
    "            if f2 <> []:\n",
    "                f = summ(f1, f2)+f3\n",
    "            else:\n",
    "                f = f1+f3\n",
    "            n = n1+n2\n",
    "    return f, n\n"
   ]
  },
  {
   "cell_type": "code",
   "execution_count": 79,
   "metadata": {
    "collapsed": false
   },
   "outputs": [],
   "source": [
    "def final_dot (x):\n",
    "    x_new = []\n",
    "    f_true = []\n",
    "    for i in range(0,nv):\n",
    "        x_new.append(x[V.data[i]])\n",
    "        \n",
    "    f = dot_Mx(A,x_new,0)\n",
    "\n",
    "    for i in range (0, nr):\n",
    "        f_true.append(0)\n",
    "    for i in range (0, nr):\n",
    "        f_true[R.data[i]] = f[0][i]\n",
    "    \n",
    "    #print size(x_new)\n",
    "    \n",
    "    return f_true\n",
    "\n",
    "def final_dot_r (x):\n",
    "    x_new = []\n",
    "    f_true = []\n",
    "    for i in range(0,nv):\n",
    "        x_new.append(x[R.data[i]])\n",
    "        \n",
    "    f = dot_Mx(A_r,x_new,0)\n",
    "\n",
    "    for i in range (0, nr):\n",
    "        f_true.append(0)\n",
    "    for i in range (0, nr):\n",
    "        f_true[V.data[i]] = f[0][i]\n",
    "    \n",
    "    #print size(x_new)\n",
    "    \n",
    "    return f_true"
   ]
  },
  {
   "cell_type": "code",
   "execution_count": 10,
   "metadata": {
    "collapsed": false
   },
   "outputs": [],
   "source": [
    "\n",
    "k = 0.\n",
    "eps = 0.1\n",
    "nr = 1000\n",
    "nv = 1000\n",
    "\n",
    "\n",
    "\n",
    "x1=[]\n",
    "y1=[]\n",
    "x2=[]\n",
    "y2=[]\n",
    "for i in range (0,nr):\n",
    "    #x1.append(random.randint(10,20))\n",
    "    #y1.append(random.randint(10,20))\n",
    "    x1.append(random.uniform(0,1))\n",
    "    y1.append(random.uniform(0,1))\n",
    "for i in range (0,nv):\n",
    "    #x2.append(random.randint(0,1))\n",
    "    #y2.append(random.randint(0,1))\n",
    "    x2.append(random.uniform(0,1))\n",
    "    y2.append(random.uniform(0,1))\n",
    "    \n",
    "#x2 = x1\n",
    "#y2 = y1\n"
   ]
  },
  {
   "cell_type": "code",
   "execution_count": 25,
   "metadata": {
    "collapsed": false
   },
   "outputs": [],
   "source": [
    "C0 =1."
   ]
  },
  {
   "cell_type": "code",
   "execution_count": 11,
   "metadata": {
    "collapsed": false
   },
   "outputs": [],
   "source": [
    "x=[]\n",
    "\n",
    "for i in range (0,nv):\n",
    "    x.append(i)\n"
   ]
  },
  {
   "cell_type": "code",
   "execution_count": 80,
   "metadata": {
    "collapsed": false
   },
   "outputs": [
    {
     "name": "stdout",
     "output_type": "stream",
     "text": [
      "500 2 0.1\n"
     ]
    }
   ],
   "source": [
    "print k, C0, eps"
   ]
  },
  {
   "cell_type": "code",
   "execution_count": 93,
   "metadata": {
    "collapsed": true
   },
   "outputs": [],
   "source": [
    "k=1\n",
    "eps=0.1\n",
    "C0=2"
   ]
  },
  {
   "cell_type": "code",
   "execution_count": 94,
   "metadata": {
    "collapsed": false
   },
   "outputs": [
    {
     "name": "stdout",
     "output_type": "stream",
     "text": [
      "0:00:07.020065\n",
      "1\n"
     ]
    }
   ],
   "source": [
    "#R - приёмник\n",
    "#V - источник\n",
    "t = datetime.today()\n",
    "n_r  = []\n",
    "n_v  = []\n",
    "for i in range (0,nr):\n",
    "    n_r.append(i)\n",
    "for i in range (0,nv):\n",
    "    n_v.append(i)\n",
    "\n",
    "\n",
    "R = tree(n_r,[0,nr, None, None])\n",
    "V = tree(n_v,[0,nv, None, None])\n",
    "pre_count_A(R,V)\n",
    "A = count_A(R,V)\n",
    "#A_r = count_A(V,R)\n",
    "\"ok\"\n",
    "print datetime.today() - t\n",
    "#print (A[0][0])\n",
    "\n",
    "print k"
   ]
  },
  {
   "cell_type": "code",
   "execution_count": 204,
   "metadata": {
    "collapsed": false
   },
   "outputs": [
    {
     "ename": "GraphicsError",
     "evalue": "Can't draw to closed window",
     "output_type": "error",
     "traceback": [
      "\u001b[1;31m---------------------------------------------------------------------------\u001b[0m",
      "\u001b[1;31mGraphicsError\u001b[0m                             Traceback (most recent call last)",
      "\u001b[1;32m<ipython-input-204-fc8766d05129>\u001b[0m in \u001b[0;36m<module>\u001b[1;34m()\u001b[0m\n\u001b[0;32m     53\u001b[0m \u001b[1;33m\u001b[0m\u001b[0m\n\u001b[0;32m     54\u001b[0m \u001b[1;33m\u001b[0m\u001b[0m\n\u001b[1;32m---> 55\u001b[1;33m \u001b[0mdraw_strings\u001b[0m\u001b[1;33m(\u001b[0m\u001b[0mA\u001b[0m\u001b[1;33m,\u001b[0m \u001b[1;36m0.\u001b[0m\u001b[1;33m,\u001b[0m \u001b[1;36m0.\u001b[0m\u001b[1;33m,\u001b[0m \u001b[1;36m650.\u001b[0m\u001b[1;33m,\u001b[0m\u001b[1;36m650.\u001b[0m\u001b[1;33m)\u001b[0m\u001b[1;33m\u001b[0m\u001b[0m\n\u001b[0m\u001b[0;32m     56\u001b[0m \u001b[1;33m\u001b[0m\u001b[0m\n\u001b[0;32m     57\u001b[0m \u001b[0mwin\u001b[0m\u001b[1;33m.\u001b[0m\u001b[0mgetMouse\u001b[0m\u001b[1;33m(\u001b[0m\u001b[1;33m)\u001b[0m\u001b[1;33m\u001b[0m\u001b[0m\n",
      "\u001b[1;32m<ipython-input-204-fc8766d05129>\u001b[0m in \u001b[0;36mdraw_strings\u001b[1;34m(A, x, y, size_x, size_y)\u001b[0m\n\u001b[0;32m     14\u001b[0m                 \u001b[0mstring\u001b[0m\u001b[1;33m.\u001b[0m\u001b[0mdraw\u001b[0m\u001b[1;33m(\u001b[0m\u001b[0mwin\u001b[0m\u001b[1;33m)\u001b[0m\u001b[1;33m\u001b[0m\u001b[0m\n\u001b[0;32m     15\u001b[0m             \u001b[1;32mfor\u001b[0m \u001b[0mj\u001b[0m \u001b[1;32min\u001b[0m \u001b[0mrange\u001b[0m \u001b[1;33m(\u001b[0m\u001b[1;36m0\u001b[0m\u001b[1;33m,\u001b[0m \u001b[0mn\u001b[0m\u001b[1;33m)\u001b[0m\u001b[1;33m:\u001b[0m\u001b[1;33m\u001b[0m\u001b[0m\n\u001b[1;32m---> 16\u001b[1;33m                 \u001b[0mdraw_columns\u001b[0m\u001b[1;33m(\u001b[0m\u001b[0mA\u001b[0m\u001b[1;33m[\u001b[0m\u001b[0mj\u001b[0m\u001b[1;33m]\u001b[0m\u001b[1;33m,\u001b[0m \u001b[0mx\u001b[0m\u001b[1;33m,\u001b[0m \u001b[0my\u001b[0m\u001b[1;33m+\u001b[0m\u001b[0mj\u001b[0m\u001b[1;33m*\u001b[0m\u001b[0mhight\u001b[0m\u001b[1;33m,\u001b[0m \u001b[0msize_x\u001b[0m\u001b[1;33m,\u001b[0m \u001b[0mhight\u001b[0m\u001b[1;33m)\u001b[0m\u001b[1;33m\u001b[0m\u001b[0m\n\u001b[0m\u001b[0;32m     17\u001b[0m     \u001b[1;32melse\u001b[0m\u001b[1;33m:\u001b[0m\u001b[1;33m\u001b[0m\u001b[0m\n\u001b[0;32m     18\u001b[0m         \u001b[1;32mif\u001b[0m \u001b[0mA\u001b[0m \u001b[1;33m==\u001b[0m \u001b[1;36m0\u001b[0m\u001b[1;33m:\u001b[0m\u001b[1;33m\u001b[0m\u001b[0m\n",
      "\u001b[1;32m<ipython-input-204-fc8766d05129>\u001b[0m in \u001b[0;36mdraw_columns\u001b[1;34m(A, x, y, size_x, size_y)\u001b[0m\n\u001b[0;32m     38\u001b[0m                 \u001b[0mstring\u001b[0m\u001b[1;33m.\u001b[0m\u001b[0mdraw\u001b[0m\u001b[1;33m(\u001b[0m\u001b[0mwin\u001b[0m\u001b[1;33m)\u001b[0m\u001b[1;33m\u001b[0m\u001b[0m\n\u001b[0;32m     39\u001b[0m             \u001b[1;32mfor\u001b[0m \u001b[0mj\u001b[0m \u001b[1;32min\u001b[0m \u001b[0mrange\u001b[0m \u001b[1;33m(\u001b[0m\u001b[1;36m0\u001b[0m\u001b[1;33m,\u001b[0m \u001b[0mn\u001b[0m\u001b[1;33m)\u001b[0m\u001b[1;33m:\u001b[0m\u001b[1;33m\u001b[0m\u001b[0m\n\u001b[1;32m---> 40\u001b[1;33m                 \u001b[0mdraw_strings\u001b[0m\u001b[1;33m(\u001b[0m\u001b[0mA\u001b[0m\u001b[1;33m[\u001b[0m\u001b[0mj\u001b[0m\u001b[1;33m]\u001b[0m\u001b[1;33m,\u001b[0m \u001b[0mx\u001b[0m\u001b[1;33m+\u001b[0m\u001b[0mj\u001b[0m\u001b[1;33m*\u001b[0m\u001b[0mwidth\u001b[0m\u001b[1;33m,\u001b[0m \u001b[0my\u001b[0m\u001b[1;33m,\u001b[0m \u001b[0mwidth\u001b[0m\u001b[1;33m,\u001b[0m \u001b[0msize_y\u001b[0m\u001b[1;33m)\u001b[0m\u001b[1;33m\u001b[0m\u001b[0m\n\u001b[0m\u001b[0;32m     41\u001b[0m     \u001b[1;32melse\u001b[0m\u001b[1;33m:\u001b[0m\u001b[1;33m\u001b[0m\u001b[0m\n\u001b[0;32m     42\u001b[0m         \u001b[1;32mif\u001b[0m \u001b[0mA\u001b[0m \u001b[1;33m==\u001b[0m \u001b[1;36m0\u001b[0m\u001b[1;33m:\u001b[0m\u001b[1;33m\u001b[0m\u001b[0m\n",
      "\u001b[1;32m<ipython-input-204-fc8766d05129>\u001b[0m in \u001b[0;36mdraw_strings\u001b[1;34m(A, x, y, size_x, size_y)\u001b[0m\n\u001b[0;32m     14\u001b[0m                 \u001b[0mstring\u001b[0m\u001b[1;33m.\u001b[0m\u001b[0mdraw\u001b[0m\u001b[1;33m(\u001b[0m\u001b[0mwin\u001b[0m\u001b[1;33m)\u001b[0m\u001b[1;33m\u001b[0m\u001b[0m\n\u001b[0;32m     15\u001b[0m             \u001b[1;32mfor\u001b[0m \u001b[0mj\u001b[0m \u001b[1;32min\u001b[0m \u001b[0mrange\u001b[0m \u001b[1;33m(\u001b[0m\u001b[1;36m0\u001b[0m\u001b[1;33m,\u001b[0m \u001b[0mn\u001b[0m\u001b[1;33m)\u001b[0m\u001b[1;33m:\u001b[0m\u001b[1;33m\u001b[0m\u001b[0m\n\u001b[1;32m---> 16\u001b[1;33m                 \u001b[0mdraw_columns\u001b[0m\u001b[1;33m(\u001b[0m\u001b[0mA\u001b[0m\u001b[1;33m[\u001b[0m\u001b[0mj\u001b[0m\u001b[1;33m]\u001b[0m\u001b[1;33m,\u001b[0m \u001b[0mx\u001b[0m\u001b[1;33m,\u001b[0m \u001b[0my\u001b[0m\u001b[1;33m+\u001b[0m\u001b[0mj\u001b[0m\u001b[1;33m*\u001b[0m\u001b[0mhight\u001b[0m\u001b[1;33m,\u001b[0m \u001b[0msize_x\u001b[0m\u001b[1;33m,\u001b[0m \u001b[0mhight\u001b[0m\u001b[1;33m)\u001b[0m\u001b[1;33m\u001b[0m\u001b[0m\n\u001b[0m\u001b[0;32m     17\u001b[0m     \u001b[1;32melse\u001b[0m\u001b[1;33m:\u001b[0m\u001b[1;33m\u001b[0m\u001b[0m\n\u001b[0;32m     18\u001b[0m         \u001b[1;32mif\u001b[0m \u001b[0mA\u001b[0m \u001b[1;33m==\u001b[0m \u001b[1;36m0\u001b[0m\u001b[1;33m:\u001b[0m\u001b[1;33m\u001b[0m\u001b[0m\n",
      "\u001b[1;32m<ipython-input-204-fc8766d05129>\u001b[0m in \u001b[0;36mdraw_columns\u001b[1;34m(A, x, y, size_x, size_y)\u001b[0m\n\u001b[0;32m     38\u001b[0m                 \u001b[0mstring\u001b[0m\u001b[1;33m.\u001b[0m\u001b[0mdraw\u001b[0m\u001b[1;33m(\u001b[0m\u001b[0mwin\u001b[0m\u001b[1;33m)\u001b[0m\u001b[1;33m\u001b[0m\u001b[0m\n\u001b[0;32m     39\u001b[0m             \u001b[1;32mfor\u001b[0m \u001b[0mj\u001b[0m \u001b[1;32min\u001b[0m \u001b[0mrange\u001b[0m \u001b[1;33m(\u001b[0m\u001b[1;36m0\u001b[0m\u001b[1;33m,\u001b[0m \u001b[0mn\u001b[0m\u001b[1;33m)\u001b[0m\u001b[1;33m:\u001b[0m\u001b[1;33m\u001b[0m\u001b[0m\n\u001b[1;32m---> 40\u001b[1;33m                 \u001b[0mdraw_strings\u001b[0m\u001b[1;33m(\u001b[0m\u001b[0mA\u001b[0m\u001b[1;33m[\u001b[0m\u001b[0mj\u001b[0m\u001b[1;33m]\u001b[0m\u001b[1;33m,\u001b[0m \u001b[0mx\u001b[0m\u001b[1;33m+\u001b[0m\u001b[0mj\u001b[0m\u001b[1;33m*\u001b[0m\u001b[0mwidth\u001b[0m\u001b[1;33m,\u001b[0m \u001b[0my\u001b[0m\u001b[1;33m,\u001b[0m \u001b[0mwidth\u001b[0m\u001b[1;33m,\u001b[0m \u001b[0msize_y\u001b[0m\u001b[1;33m)\u001b[0m\u001b[1;33m\u001b[0m\u001b[0m\n\u001b[0m\u001b[0;32m     41\u001b[0m     \u001b[1;32melse\u001b[0m\u001b[1;33m:\u001b[0m\u001b[1;33m\u001b[0m\u001b[0m\n\u001b[0;32m     42\u001b[0m         \u001b[1;32mif\u001b[0m \u001b[0mA\u001b[0m \u001b[1;33m==\u001b[0m \u001b[1;36m0\u001b[0m\u001b[1;33m:\u001b[0m\u001b[1;33m\u001b[0m\u001b[0m\n",
      "\u001b[1;32m<ipython-input-204-fc8766d05129>\u001b[0m in \u001b[0;36mdraw_strings\u001b[1;34m(A, x, y, size_x, size_y)\u001b[0m\n\u001b[0;32m     14\u001b[0m                 \u001b[0mstring\u001b[0m\u001b[1;33m.\u001b[0m\u001b[0mdraw\u001b[0m\u001b[1;33m(\u001b[0m\u001b[0mwin\u001b[0m\u001b[1;33m)\u001b[0m\u001b[1;33m\u001b[0m\u001b[0m\n\u001b[0;32m     15\u001b[0m             \u001b[1;32mfor\u001b[0m \u001b[0mj\u001b[0m \u001b[1;32min\u001b[0m \u001b[0mrange\u001b[0m \u001b[1;33m(\u001b[0m\u001b[1;36m0\u001b[0m\u001b[1;33m,\u001b[0m \u001b[0mn\u001b[0m\u001b[1;33m)\u001b[0m\u001b[1;33m:\u001b[0m\u001b[1;33m\u001b[0m\u001b[0m\n\u001b[1;32m---> 16\u001b[1;33m                 \u001b[0mdraw_columns\u001b[0m\u001b[1;33m(\u001b[0m\u001b[0mA\u001b[0m\u001b[1;33m[\u001b[0m\u001b[0mj\u001b[0m\u001b[1;33m]\u001b[0m\u001b[1;33m,\u001b[0m \u001b[0mx\u001b[0m\u001b[1;33m,\u001b[0m \u001b[0my\u001b[0m\u001b[1;33m+\u001b[0m\u001b[0mj\u001b[0m\u001b[1;33m*\u001b[0m\u001b[0mhight\u001b[0m\u001b[1;33m,\u001b[0m \u001b[0msize_x\u001b[0m\u001b[1;33m,\u001b[0m \u001b[0mhight\u001b[0m\u001b[1;33m)\u001b[0m\u001b[1;33m\u001b[0m\u001b[0m\n\u001b[0m\u001b[0;32m     17\u001b[0m     \u001b[1;32melse\u001b[0m\u001b[1;33m:\u001b[0m\u001b[1;33m\u001b[0m\u001b[0m\n\u001b[0;32m     18\u001b[0m         \u001b[1;32mif\u001b[0m \u001b[0mA\u001b[0m \u001b[1;33m==\u001b[0m \u001b[1;36m0\u001b[0m\u001b[1;33m:\u001b[0m\u001b[1;33m\u001b[0m\u001b[0m\n",
      "\u001b[1;32m<ipython-input-204-fc8766d05129>\u001b[0m in \u001b[0;36mdraw_columns\u001b[1;34m(A, x, y, size_x, size_y)\u001b[0m\n\u001b[0;32m     36\u001b[0m                 \u001b[0mstring\u001b[0m \u001b[1;33m=\u001b[0m \u001b[0mLine\u001b[0m\u001b[1;33m(\u001b[0m\u001b[0mPoint\u001b[0m\u001b[1;33m(\u001b[0m\u001b[0mx\u001b[0m\u001b[1;33m+\u001b[0m\u001b[0mi\u001b[0m\u001b[1;33m*\u001b[0m\u001b[0mwidth\u001b[0m\u001b[1;33m,\u001b[0m \u001b[0my\u001b[0m\u001b[1;33m)\u001b[0m\u001b[1;33m,\u001b[0m \u001b[0mPoint\u001b[0m\u001b[1;33m(\u001b[0m\u001b[0mx\u001b[0m\u001b[1;33m+\u001b[0m\u001b[0mi\u001b[0m\u001b[1;33m*\u001b[0m\u001b[0mwidth\u001b[0m\u001b[1;33m,\u001b[0m \u001b[0my\u001b[0m\u001b[1;33m+\u001b[0m\u001b[0msize_y\u001b[0m\u001b[1;33m)\u001b[0m\u001b[1;33m)\u001b[0m\u001b[1;33m\u001b[0m\u001b[0m\n\u001b[0;32m     37\u001b[0m                 \u001b[0mstring\u001b[0m\u001b[1;33m.\u001b[0m\u001b[0msetWidth\u001b[0m\u001b[1;33m(\u001b[0m\u001b[1;36m1\u001b[0m\u001b[1;33m)\u001b[0m\u001b[1;33m\u001b[0m\u001b[0m\n\u001b[1;32m---> 38\u001b[1;33m                 \u001b[0mstring\u001b[0m\u001b[1;33m.\u001b[0m\u001b[0mdraw\u001b[0m\u001b[1;33m(\u001b[0m\u001b[0mwin\u001b[0m\u001b[1;33m)\u001b[0m\u001b[1;33m\u001b[0m\u001b[0m\n\u001b[0m\u001b[0;32m     39\u001b[0m             \u001b[1;32mfor\u001b[0m \u001b[0mj\u001b[0m \u001b[1;32min\u001b[0m \u001b[0mrange\u001b[0m \u001b[1;33m(\u001b[0m\u001b[1;36m0\u001b[0m\u001b[1;33m,\u001b[0m \u001b[0mn\u001b[0m\u001b[1;33m)\u001b[0m\u001b[1;33m:\u001b[0m\u001b[1;33m\u001b[0m\u001b[0m\n\u001b[0;32m     40\u001b[0m                 \u001b[0mdraw_strings\u001b[0m\u001b[1;33m(\u001b[0m\u001b[0mA\u001b[0m\u001b[1;33m[\u001b[0m\u001b[0mj\u001b[0m\u001b[1;33m]\u001b[0m\u001b[1;33m,\u001b[0m \u001b[0mx\u001b[0m\u001b[1;33m+\u001b[0m\u001b[0mj\u001b[0m\u001b[1;33m*\u001b[0m\u001b[0mwidth\u001b[0m\u001b[1;33m,\u001b[0m \u001b[0my\u001b[0m\u001b[1;33m,\u001b[0m \u001b[0mwidth\u001b[0m\u001b[1;33m,\u001b[0m \u001b[0msize_y\u001b[0m\u001b[1;33m)\u001b[0m\u001b[1;33m\u001b[0m\u001b[0m\n",
      "\u001b[1;32m/home/campaign/anaconda/lib/python2.7/site-packages/graphics.pyc\u001b[0m in \u001b[0;36mdraw\u001b[1;34m(self, graphwin)\u001b[0m\n\u001b[0;32m    446\u001b[0m \u001b[1;33m\u001b[0m\u001b[0m\n\u001b[0;32m    447\u001b[0m         \u001b[1;32mif\u001b[0m \u001b[0mself\u001b[0m\u001b[1;33m.\u001b[0m\u001b[0mcanvas\u001b[0m \u001b[1;32mand\u001b[0m \u001b[1;32mnot\u001b[0m \u001b[0mself\u001b[0m\u001b[1;33m.\u001b[0m\u001b[0mcanvas\u001b[0m\u001b[1;33m.\u001b[0m\u001b[0misClosed\u001b[0m\u001b[1;33m(\u001b[0m\u001b[1;33m)\u001b[0m\u001b[1;33m:\u001b[0m \u001b[1;32mraise\u001b[0m \u001b[0mGraphicsError\u001b[0m\u001b[1;33m(\u001b[0m\u001b[0mOBJ_ALREADY_DRAWN\u001b[0m\u001b[1;33m)\u001b[0m\u001b[1;33m\u001b[0m\u001b[0m\n\u001b[1;32m--> 448\u001b[1;33m         \u001b[1;32mif\u001b[0m \u001b[0mgraphwin\u001b[0m\u001b[1;33m.\u001b[0m\u001b[0misClosed\u001b[0m\u001b[1;33m(\u001b[0m\u001b[1;33m)\u001b[0m\u001b[1;33m:\u001b[0m \u001b[1;32mraise\u001b[0m \u001b[0mGraphicsError\u001b[0m\u001b[1;33m(\u001b[0m\u001b[1;34m\"Can't draw to closed window\"\u001b[0m\u001b[1;33m)\u001b[0m\u001b[1;33m\u001b[0m\u001b[0m\n\u001b[0m\u001b[0;32m    449\u001b[0m         \u001b[0mself\u001b[0m\u001b[1;33m.\u001b[0m\u001b[0mcanvas\u001b[0m \u001b[1;33m=\u001b[0m \u001b[0mgraphwin\u001b[0m\u001b[1;33m\u001b[0m\u001b[0m\n\u001b[0;32m    450\u001b[0m         \u001b[0mself\u001b[0m\u001b[1;33m.\u001b[0m\u001b[0mid\u001b[0m \u001b[1;33m=\u001b[0m \u001b[0mself\u001b[0m\u001b[1;33m.\u001b[0m\u001b[0m_draw\u001b[0m\u001b[1;33m(\u001b[0m\u001b[0mgraphwin\u001b[0m\u001b[1;33m,\u001b[0m \u001b[0mself\u001b[0m\u001b[1;33m.\u001b[0m\u001b[0mconfig\u001b[0m\u001b[1;33m)\u001b[0m\u001b[1;33m\u001b[0m\u001b[0m\n",
      "\u001b[1;31mGraphicsError\u001b[0m: Can't draw to closed window"
     ]
    }
   ],
   "source": [
    "x0 = 650; y0 = 650\n",
    "\n",
    "\n",
    "\n",
    "\n",
    "def draw_strings(A, x, y, size_x, size_y):\n",
    "    if (type(A)==list):\n",
    "        n = len(A)\n",
    "        if n<>0:\n",
    "            hight = size_y/n\n",
    "            for i in range (1, n):\n",
    "                string = Line(Point(x, y+i*hight), Point(x+size_x, y+i*hight))\n",
    "                string.setWidth(1)\n",
    "                string.draw(win)\n",
    "            for j in range (0, n):\n",
    "                draw_columns(A[j], x, y+j*hight, size_x, hight)\n",
    "    else:\n",
    "        if A == 0:\n",
    "            rectangle = Rectangle(Point(x, y), Point(x+size_x, y+size_y))\n",
    "            rectangle.setFill('red')\n",
    "            rectangle.draw(win)\n",
    "        else:\n",
    "            rectangle = Rectangle(Point(x, y), Point(x+size_x, y+size_y))\n",
    "            rectangle.setFill('green')\n",
    "            rectangle.draw(win)\n",
    "            \n",
    "    \n",
    "    \n",
    "def draw_columns(A, x, y, size_x, size_y):\n",
    "    if type(A)==list:\n",
    "        n = len(A)\n",
    "        if n<>0:\n",
    "\n",
    "            width = size_x/n\n",
    "            for i in range (1, n):\n",
    "                string = Line(Point(x+i*width, y), Point(x+i*width, y+size_y))\n",
    "                string.setWidth(1)\n",
    "                string.draw(win)\n",
    "            for j in range (0, n):\n",
    "                draw_strings(A[j], x+j*width, y, width, size_y)\n",
    "    else:\n",
    "        if A == 0:\n",
    "            rectangle = Rectangle(Point(x, y), Point(x+size_x, y+size_y))\n",
    "            rectangle.setFill('red')\n",
    "            rectangle.draw(win)\n",
    "        else:\n",
    "            rectangle = Rectangle(Point(x, y), Point(x+size_x, y+size_y))\n",
    "            rectangle.setFill('green')\n",
    "            rectangle.draw(win)\n",
    "\n",
    "        \n",
    "win = GraphWin('A', x0, y0)\n",
    "\n",
    "\n",
    "draw_strings(A, 0., 0., 650.,650.)\n",
    "\n",
    "win.getMouse()\n",
    "win.close()"
   ]
  },
  {
   "cell_type": "code",
   "execution_count": 16,
   "metadata": {
    "collapsed": false
   },
   "outputs": [],
   "source": [
    "def usual_count_A(x1, y1, x2, y2):\n",
    "    #print k\n",
    "    nr = len(x1)\n",
    "    nv = len(x2)\n",
    "    usual_A = np.zeros((nr,nv), complex)\n",
    "    for i in range (0, nr):\n",
    "        for j in range (0, nv):\n",
    "            lenght = ((x1[i]-x2[j])**2+(y1[i]-y2[j])**2)**0.5\n",
    "            if lenght <> 0:\n",
    "                usual_A[i][j] = cmath.exp(complex(0,1)*k*lenght)/lenght\n",
    "            else:\n",
    "                usual_A[i][j] = 0\n",
    "\n",
    "    return usual_A"
   ]
  },
  {
   "cell_type": "code",
   "execution_count": 17,
   "metadata": {
    "collapsed": false
   },
   "outputs": [],
   "source": [
    "def usual_dot_Ax(A,x):\n",
    "    usual_f = np.dot(A,x)\n",
    "        \n",
    "    return usual_f"
   ]
  },
  {
   "cell_type": "code",
   "execution_count": 18,
   "metadata": {
    "collapsed": false
   },
   "outputs": [],
   "source": [
    "def norm_ff(f1, f2):\n",
    "    norm_between_f = 0.\n",
    "    norm_f = 0.\n",
    "    for i in range (0,nr):\n",
    "        norm_between_f = norm_between_f+(abs(f1[i]-f2[i]))**2\n",
    "        norm_f = norm_f+abs(f2[i]**2)\n",
    "    norm_f = (norm_f)**0.5\n",
    "    norm_between_f = (norm_between_f**0.5)/norm_f\n",
    "    return norm_between_f"
   ]
  },
  {
   "cell_type": "code",
   "execution_count": 33,
   "metadata": {
    "collapsed": false,
    "scrolled": true
   },
   "outputs": [
    {
     "ename": "KeyboardInterrupt",
     "evalue": "",
     "output_type": "error",
     "traceback": [
      "\u001b[1;31m---------------------------------------------------------------------------\u001b[0m",
      "\u001b[1;31mKeyboardInterrupt\u001b[0m                         Traceback (most recent call last)",
      "\u001b[1;32m<ipython-input-33-8cc8fa47db7d>\u001b[0m in \u001b[0;36m<module>\u001b[1;34m()\u001b[0m\n\u001b[0;32m      1\u001b[0m \u001b[0mmat\u001b[0m \u001b[1;33m=\u001b[0m \u001b[0mnp\u001b[0m\u001b[1;33m.\u001b[0m\u001b[0mndarray\u001b[0m\u001b[1;33m(\u001b[0m\u001b[1;33m(\u001b[0m\u001b[0mnr\u001b[0m\u001b[1;33m,\u001b[0m \u001b[0mnv\u001b[0m\u001b[1;33m)\u001b[0m\u001b[1;33m,\u001b[0m \u001b[0mnp\u001b[0m\u001b[1;33m.\u001b[0m\u001b[0mcomplex128\u001b[0m\u001b[1;33m)\u001b[0m\u001b[1;33m\u001b[0m\u001b[0m\n\u001b[0;32m      2\u001b[0m \u001b[1;32mfor\u001b[0m \u001b[0mi\u001b[0m \u001b[1;32min\u001b[0m \u001b[0mrange\u001b[0m\u001b[1;33m(\u001b[0m\u001b[0mnr\u001b[0m\u001b[1;33m)\u001b[0m\u001b[1;33m:\u001b[0m\u001b[1;33m\u001b[0m\u001b[0m\n\u001b[1;32m----> 3\u001b[1;33m     \u001b[0mmat\u001b[0m\u001b[1;33m[\u001b[0m\u001b[1;33m:\u001b[0m\u001b[1;33m,\u001b[0m\u001b[0mi\u001b[0m\u001b[1;33m]\u001b[0m \u001b[1;33m=\u001b[0m \u001b[0mfinal_dot\u001b[0m\u001b[1;33m(\u001b[0m\u001b[0mnp\u001b[0m\u001b[1;33m.\u001b[0m\u001b[0meye\u001b[0m\u001b[1;33m(\u001b[0m\u001b[0mnr\u001b[0m\u001b[1;33m)\u001b[0m\u001b[1;33m[\u001b[0m\u001b[1;33m:\u001b[0m\u001b[1;33m,\u001b[0m\u001b[0mi\u001b[0m\u001b[1;33m]\u001b[0m\u001b[1;33m)\u001b[0m\u001b[1;33m\u001b[0m\u001b[0m\n\u001b[0m\u001b[0;32m      4\u001b[0m \u001b[1;31m#print mat\u001b[0m\u001b[1;33m\u001b[0m\u001b[1;33m\u001b[0m\u001b[0m\n\u001b[0;32m      5\u001b[0m \u001b[1;33m\u001b[0m\u001b[0m\n",
      "\u001b[1;32m<ipython-input-23-90df9a980697>\u001b[0m in \u001b[0;36mfinal_dot\u001b[1;34m(x)\u001b[0m\n\u001b[0;32m      5\u001b[0m         \u001b[0mx_new\u001b[0m\u001b[1;33m.\u001b[0m\u001b[0mappend\u001b[0m\u001b[1;33m(\u001b[0m\u001b[0mx\u001b[0m\u001b[1;33m[\u001b[0m\u001b[0mV\u001b[0m\u001b[1;33m.\u001b[0m\u001b[0mdata\u001b[0m\u001b[1;33m[\u001b[0m\u001b[0mi\u001b[0m\u001b[1;33m]\u001b[0m\u001b[1;33m]\u001b[0m\u001b[1;33m)\u001b[0m\u001b[1;33m\u001b[0m\u001b[0m\n\u001b[0;32m      6\u001b[0m \u001b[1;33m\u001b[0m\u001b[0m\n\u001b[1;32m----> 7\u001b[1;33m     \u001b[0mf\u001b[0m \u001b[1;33m=\u001b[0m \u001b[0mdot_Mx\u001b[0m\u001b[1;33m(\u001b[0m\u001b[0mA\u001b[0m\u001b[1;33m,\u001b[0m\u001b[0mx_new\u001b[0m\u001b[1;33m,\u001b[0m\u001b[1;36m0\u001b[0m\u001b[1;33m)\u001b[0m\u001b[1;33m\u001b[0m\u001b[0m\n\u001b[0m\u001b[0;32m      8\u001b[0m \u001b[1;33m\u001b[0m\u001b[0m\n\u001b[0;32m      9\u001b[0m     \u001b[1;32mfor\u001b[0m \u001b[0mi\u001b[0m \u001b[1;32min\u001b[0m \u001b[0mrange\u001b[0m \u001b[1;33m(\u001b[0m\u001b[1;36m0\u001b[0m\u001b[1;33m,\u001b[0m \u001b[0mnr\u001b[0m\u001b[1;33m)\u001b[0m\u001b[1;33m:\u001b[0m\u001b[1;33m\u001b[0m\u001b[0m\n",
      "\u001b[1;32m<ipython-input-22-b3b48d8c61ca>\u001b[0m in \u001b[0;36mdot_Mx\u001b[1;34m(A, x, w)\u001b[0m\n\u001b[0;32m     27\u001b[0m                 \u001b[0mM2\u001b[0m \u001b[1;33m=\u001b[0m \u001b[1;33m[\u001b[0m\u001b[1;33m]\u001b[0m\u001b[1;33m\u001b[0m\u001b[0m\n\u001b[0;32m     28\u001b[0m             \u001b[1;33m(\u001b[0m\u001b[0mf1\u001b[0m\u001b[1;33m,\u001b[0m \u001b[0mn1\u001b[0m\u001b[1;33m)\u001b[0m \u001b[1;33m=\u001b[0m \u001b[0mdot_Mx\u001b[0m\u001b[1;33m(\u001b[0m\u001b[0mM1\u001b[0m\u001b[1;33m,\u001b[0m \u001b[0mx\u001b[0m\u001b[1;33m,\u001b[0m \u001b[0mw\u001b[0m\u001b[1;33m)\u001b[0m\u001b[1;33m\u001b[0m\u001b[0m\n\u001b[1;32m---> 29\u001b[1;33m             \u001b[1;33m(\u001b[0m\u001b[0mf2\u001b[0m\u001b[1;33m,\u001b[0m \u001b[0mn2\u001b[0m\u001b[1;33m)\u001b[0m \u001b[1;33m=\u001b[0m \u001b[0mdot_Mx\u001b[0m\u001b[1;33m(\u001b[0m\u001b[0mM2\u001b[0m\u001b[1;33m,\u001b[0m \u001b[0mx\u001b[0m\u001b[1;33m,\u001b[0m \u001b[0mw\u001b[0m\u001b[1;33m+\u001b[0m\u001b[0mn1\u001b[0m\u001b[1;33m)\u001b[0m\u001b[1;33m\u001b[0m\u001b[0m\n\u001b[0m\u001b[0;32m     30\u001b[0m             \u001b[1;33m(\u001b[0m\u001b[0mf3\u001b[0m\u001b[1;33m,\u001b[0m \u001b[0mn3\u001b[0m\u001b[1;33m)\u001b[0m \u001b[1;33m=\u001b[0m \u001b[0mdot_Mx\u001b[0m\u001b[1;33m(\u001b[0m\u001b[0mM3\u001b[0m\u001b[1;33m,\u001b[0m \u001b[0mx\u001b[0m\u001b[1;33m,\u001b[0m \u001b[0mw\u001b[0m\u001b[1;33m)\u001b[0m\u001b[1;33m\u001b[0m\u001b[0m\n\u001b[0;32m     31\u001b[0m \u001b[1;33m\u001b[0m\u001b[0m\n",
      "\u001b[1;32m<ipython-input-22-b3b48d8c61ca>\u001b[0m in \u001b[0;36mdot_Mx\u001b[1;34m(A, x, w)\u001b[0m\n\u001b[0;32m     27\u001b[0m                 \u001b[0mM2\u001b[0m \u001b[1;33m=\u001b[0m \u001b[1;33m[\u001b[0m\u001b[1;33m]\u001b[0m\u001b[1;33m\u001b[0m\u001b[0m\n\u001b[0;32m     28\u001b[0m             \u001b[1;33m(\u001b[0m\u001b[0mf1\u001b[0m\u001b[1;33m,\u001b[0m \u001b[0mn1\u001b[0m\u001b[1;33m)\u001b[0m \u001b[1;33m=\u001b[0m \u001b[0mdot_Mx\u001b[0m\u001b[1;33m(\u001b[0m\u001b[0mM1\u001b[0m\u001b[1;33m,\u001b[0m \u001b[0mx\u001b[0m\u001b[1;33m,\u001b[0m \u001b[0mw\u001b[0m\u001b[1;33m)\u001b[0m\u001b[1;33m\u001b[0m\u001b[0m\n\u001b[1;32m---> 29\u001b[1;33m             \u001b[1;33m(\u001b[0m\u001b[0mf2\u001b[0m\u001b[1;33m,\u001b[0m \u001b[0mn2\u001b[0m\u001b[1;33m)\u001b[0m \u001b[1;33m=\u001b[0m \u001b[0mdot_Mx\u001b[0m\u001b[1;33m(\u001b[0m\u001b[0mM2\u001b[0m\u001b[1;33m,\u001b[0m \u001b[0mx\u001b[0m\u001b[1;33m,\u001b[0m \u001b[0mw\u001b[0m\u001b[1;33m+\u001b[0m\u001b[0mn1\u001b[0m\u001b[1;33m)\u001b[0m\u001b[1;33m\u001b[0m\u001b[0m\n\u001b[0m\u001b[0;32m     30\u001b[0m             \u001b[1;33m(\u001b[0m\u001b[0mf3\u001b[0m\u001b[1;33m,\u001b[0m \u001b[0mn3\u001b[0m\u001b[1;33m)\u001b[0m \u001b[1;33m=\u001b[0m \u001b[0mdot_Mx\u001b[0m\u001b[1;33m(\u001b[0m\u001b[0mM3\u001b[0m\u001b[1;33m,\u001b[0m \u001b[0mx\u001b[0m\u001b[1;33m,\u001b[0m \u001b[0mw\u001b[0m\u001b[1;33m)\u001b[0m\u001b[1;33m\u001b[0m\u001b[0m\n\u001b[0;32m     31\u001b[0m \u001b[1;33m\u001b[0m\u001b[0m\n",
      "\u001b[1;32m<ipython-input-22-b3b48d8c61ca>\u001b[0m in \u001b[0;36mdot_Mx\u001b[1;34m(A, x, w)\u001b[0m\n\u001b[0;32m     27\u001b[0m                 \u001b[0mM2\u001b[0m \u001b[1;33m=\u001b[0m \u001b[1;33m[\u001b[0m\u001b[1;33m]\u001b[0m\u001b[1;33m\u001b[0m\u001b[0m\n\u001b[0;32m     28\u001b[0m             \u001b[1;33m(\u001b[0m\u001b[0mf1\u001b[0m\u001b[1;33m,\u001b[0m \u001b[0mn1\u001b[0m\u001b[1;33m)\u001b[0m \u001b[1;33m=\u001b[0m \u001b[0mdot_Mx\u001b[0m\u001b[1;33m(\u001b[0m\u001b[0mM1\u001b[0m\u001b[1;33m,\u001b[0m \u001b[0mx\u001b[0m\u001b[1;33m,\u001b[0m \u001b[0mw\u001b[0m\u001b[1;33m)\u001b[0m\u001b[1;33m\u001b[0m\u001b[0m\n\u001b[1;32m---> 29\u001b[1;33m             \u001b[1;33m(\u001b[0m\u001b[0mf2\u001b[0m\u001b[1;33m,\u001b[0m \u001b[0mn2\u001b[0m\u001b[1;33m)\u001b[0m \u001b[1;33m=\u001b[0m \u001b[0mdot_Mx\u001b[0m\u001b[1;33m(\u001b[0m\u001b[0mM2\u001b[0m\u001b[1;33m,\u001b[0m \u001b[0mx\u001b[0m\u001b[1;33m,\u001b[0m \u001b[0mw\u001b[0m\u001b[1;33m+\u001b[0m\u001b[0mn1\u001b[0m\u001b[1;33m)\u001b[0m\u001b[1;33m\u001b[0m\u001b[0m\n\u001b[0m\u001b[0;32m     30\u001b[0m             \u001b[1;33m(\u001b[0m\u001b[0mf3\u001b[0m\u001b[1;33m,\u001b[0m \u001b[0mn3\u001b[0m\u001b[1;33m)\u001b[0m \u001b[1;33m=\u001b[0m \u001b[0mdot_Mx\u001b[0m\u001b[1;33m(\u001b[0m\u001b[0mM3\u001b[0m\u001b[1;33m,\u001b[0m \u001b[0mx\u001b[0m\u001b[1;33m,\u001b[0m \u001b[0mw\u001b[0m\u001b[1;33m)\u001b[0m\u001b[1;33m\u001b[0m\u001b[0m\n\u001b[0;32m     31\u001b[0m \u001b[1;33m\u001b[0m\u001b[0m\n",
      "\u001b[1;32m<ipython-input-22-b3b48d8c61ca>\u001b[0m in \u001b[0;36mdot_Mx\u001b[1;34m(A, x, w)\u001b[0m\n\u001b[0;32m     26\u001b[0m                 \u001b[0mM1\u001b[0m \u001b[1;33m=\u001b[0m \u001b[0mstring\u001b[0m\u001b[1;33m\u001b[0m\u001b[0m\n\u001b[0;32m     27\u001b[0m                 \u001b[0mM2\u001b[0m \u001b[1;33m=\u001b[0m \u001b[1;33m[\u001b[0m\u001b[1;33m]\u001b[0m\u001b[1;33m\u001b[0m\u001b[0m\n\u001b[1;32m---> 28\u001b[1;33m             \u001b[1;33m(\u001b[0m\u001b[0mf1\u001b[0m\u001b[1;33m,\u001b[0m \u001b[0mn1\u001b[0m\u001b[1;33m)\u001b[0m \u001b[1;33m=\u001b[0m \u001b[0mdot_Mx\u001b[0m\u001b[1;33m(\u001b[0m\u001b[0mM1\u001b[0m\u001b[1;33m,\u001b[0m \u001b[0mx\u001b[0m\u001b[1;33m,\u001b[0m \u001b[0mw\u001b[0m\u001b[1;33m)\u001b[0m\u001b[1;33m\u001b[0m\u001b[0m\n\u001b[0m\u001b[0;32m     29\u001b[0m             \u001b[1;33m(\u001b[0m\u001b[0mf2\u001b[0m\u001b[1;33m,\u001b[0m \u001b[0mn2\u001b[0m\u001b[1;33m)\u001b[0m \u001b[1;33m=\u001b[0m \u001b[0mdot_Mx\u001b[0m\u001b[1;33m(\u001b[0m\u001b[0mM2\u001b[0m\u001b[1;33m,\u001b[0m \u001b[0mx\u001b[0m\u001b[1;33m,\u001b[0m \u001b[0mw\u001b[0m\u001b[1;33m+\u001b[0m\u001b[0mn1\u001b[0m\u001b[1;33m)\u001b[0m\u001b[1;33m\u001b[0m\u001b[0m\n\u001b[0;32m     30\u001b[0m             \u001b[1;33m(\u001b[0m\u001b[0mf3\u001b[0m\u001b[1;33m,\u001b[0m \u001b[0mn3\u001b[0m\u001b[1;33m)\u001b[0m \u001b[1;33m=\u001b[0m \u001b[0mdot_Mx\u001b[0m\u001b[1;33m(\u001b[0m\u001b[0mM3\u001b[0m\u001b[1;33m,\u001b[0m \u001b[0mx\u001b[0m\u001b[1;33m,\u001b[0m \u001b[0mw\u001b[0m\u001b[1;33m)\u001b[0m\u001b[1;33m\u001b[0m\u001b[0m\n",
      "\u001b[1;32m<ipython-input-22-b3b48d8c61ca>\u001b[0m in \u001b[0;36mdot_Mx\u001b[1;34m(A, x, w)\u001b[0m\n\u001b[0;32m     28\u001b[0m             \u001b[1;33m(\u001b[0m\u001b[0mf1\u001b[0m\u001b[1;33m,\u001b[0m \u001b[0mn1\u001b[0m\u001b[1;33m)\u001b[0m \u001b[1;33m=\u001b[0m \u001b[0mdot_Mx\u001b[0m\u001b[1;33m(\u001b[0m\u001b[0mM1\u001b[0m\u001b[1;33m,\u001b[0m \u001b[0mx\u001b[0m\u001b[1;33m,\u001b[0m \u001b[0mw\u001b[0m\u001b[1;33m)\u001b[0m\u001b[1;33m\u001b[0m\u001b[0m\n\u001b[0;32m     29\u001b[0m             \u001b[1;33m(\u001b[0m\u001b[0mf2\u001b[0m\u001b[1;33m,\u001b[0m \u001b[0mn2\u001b[0m\u001b[1;33m)\u001b[0m \u001b[1;33m=\u001b[0m \u001b[0mdot_Mx\u001b[0m\u001b[1;33m(\u001b[0m\u001b[0mM2\u001b[0m\u001b[1;33m,\u001b[0m \u001b[0mx\u001b[0m\u001b[1;33m,\u001b[0m \u001b[0mw\u001b[0m\u001b[1;33m+\u001b[0m\u001b[0mn1\u001b[0m\u001b[1;33m)\u001b[0m\u001b[1;33m\u001b[0m\u001b[0m\n\u001b[1;32m---> 30\u001b[1;33m             \u001b[1;33m(\u001b[0m\u001b[0mf3\u001b[0m\u001b[1;33m,\u001b[0m \u001b[0mn3\u001b[0m\u001b[1;33m)\u001b[0m \u001b[1;33m=\u001b[0m \u001b[0mdot_Mx\u001b[0m\u001b[1;33m(\u001b[0m\u001b[0mM3\u001b[0m\u001b[1;33m,\u001b[0m \u001b[0mx\u001b[0m\u001b[1;33m,\u001b[0m \u001b[0mw\u001b[0m\u001b[1;33m)\u001b[0m\u001b[1;33m\u001b[0m\u001b[0m\n\u001b[0m\u001b[0;32m     31\u001b[0m \u001b[1;33m\u001b[0m\u001b[0m\n\u001b[0;32m     32\u001b[0m \u001b[1;33m\u001b[0m\u001b[0m\n",
      "\u001b[1;32m<ipython-input-22-b3b48d8c61ca>\u001b[0m in \u001b[0;36mdot_Mx\u001b[1;34m(A, x, w)\u001b[0m\n\u001b[0;32m     28\u001b[0m             \u001b[1;33m(\u001b[0m\u001b[0mf1\u001b[0m\u001b[1;33m,\u001b[0m \u001b[0mn1\u001b[0m\u001b[1;33m)\u001b[0m \u001b[1;33m=\u001b[0m \u001b[0mdot_Mx\u001b[0m\u001b[1;33m(\u001b[0m\u001b[0mM1\u001b[0m\u001b[1;33m,\u001b[0m \u001b[0mx\u001b[0m\u001b[1;33m,\u001b[0m \u001b[0mw\u001b[0m\u001b[1;33m)\u001b[0m\u001b[1;33m\u001b[0m\u001b[0m\n\u001b[0;32m     29\u001b[0m             \u001b[1;33m(\u001b[0m\u001b[0mf2\u001b[0m\u001b[1;33m,\u001b[0m \u001b[0mn2\u001b[0m\u001b[1;33m)\u001b[0m \u001b[1;33m=\u001b[0m \u001b[0mdot_Mx\u001b[0m\u001b[1;33m(\u001b[0m\u001b[0mM2\u001b[0m\u001b[1;33m,\u001b[0m \u001b[0mx\u001b[0m\u001b[1;33m,\u001b[0m \u001b[0mw\u001b[0m\u001b[1;33m+\u001b[0m\u001b[0mn1\u001b[0m\u001b[1;33m)\u001b[0m\u001b[1;33m\u001b[0m\u001b[0m\n\u001b[1;32m---> 30\u001b[1;33m             \u001b[1;33m(\u001b[0m\u001b[0mf3\u001b[0m\u001b[1;33m,\u001b[0m \u001b[0mn3\u001b[0m\u001b[1;33m)\u001b[0m \u001b[1;33m=\u001b[0m \u001b[0mdot_Mx\u001b[0m\u001b[1;33m(\u001b[0m\u001b[0mM3\u001b[0m\u001b[1;33m,\u001b[0m \u001b[0mx\u001b[0m\u001b[1;33m,\u001b[0m \u001b[0mw\u001b[0m\u001b[1;33m)\u001b[0m\u001b[1;33m\u001b[0m\u001b[0m\n\u001b[0m\u001b[0;32m     31\u001b[0m \u001b[1;33m\u001b[0m\u001b[0m\n\u001b[0;32m     32\u001b[0m \u001b[1;33m\u001b[0m\u001b[0m\n",
      "\u001b[1;32m<ipython-input-22-b3b48d8c61ca>\u001b[0m in \u001b[0;36mdot_Mx\u001b[1;34m(A, x, w)\u001b[0m\n\u001b[0;32m     28\u001b[0m             \u001b[1;33m(\u001b[0m\u001b[0mf1\u001b[0m\u001b[1;33m,\u001b[0m \u001b[0mn1\u001b[0m\u001b[1;33m)\u001b[0m \u001b[1;33m=\u001b[0m \u001b[0mdot_Mx\u001b[0m\u001b[1;33m(\u001b[0m\u001b[0mM1\u001b[0m\u001b[1;33m,\u001b[0m \u001b[0mx\u001b[0m\u001b[1;33m,\u001b[0m \u001b[0mw\u001b[0m\u001b[1;33m)\u001b[0m\u001b[1;33m\u001b[0m\u001b[0m\n\u001b[0;32m     29\u001b[0m             \u001b[1;33m(\u001b[0m\u001b[0mf2\u001b[0m\u001b[1;33m,\u001b[0m \u001b[0mn2\u001b[0m\u001b[1;33m)\u001b[0m \u001b[1;33m=\u001b[0m \u001b[0mdot_Mx\u001b[0m\u001b[1;33m(\u001b[0m\u001b[0mM2\u001b[0m\u001b[1;33m,\u001b[0m \u001b[0mx\u001b[0m\u001b[1;33m,\u001b[0m \u001b[0mw\u001b[0m\u001b[1;33m+\u001b[0m\u001b[0mn1\u001b[0m\u001b[1;33m)\u001b[0m\u001b[1;33m\u001b[0m\u001b[0m\n\u001b[1;32m---> 30\u001b[1;33m             \u001b[1;33m(\u001b[0m\u001b[0mf3\u001b[0m\u001b[1;33m,\u001b[0m \u001b[0mn3\u001b[0m\u001b[1;33m)\u001b[0m \u001b[1;33m=\u001b[0m \u001b[0mdot_Mx\u001b[0m\u001b[1;33m(\u001b[0m\u001b[0mM3\u001b[0m\u001b[1;33m,\u001b[0m \u001b[0mx\u001b[0m\u001b[1;33m,\u001b[0m \u001b[0mw\u001b[0m\u001b[1;33m)\u001b[0m\u001b[1;33m\u001b[0m\u001b[0m\n\u001b[0m\u001b[0;32m     31\u001b[0m \u001b[1;33m\u001b[0m\u001b[0m\n\u001b[0;32m     32\u001b[0m \u001b[1;33m\u001b[0m\u001b[0m\n",
      "\u001b[1;32m<ipython-input-22-b3b48d8c61ca>\u001b[0m in \u001b[0;36mdot_Mx\u001b[1;34m(A, x, w)\u001b[0m\n\u001b[0;32m     26\u001b[0m                 \u001b[0mM1\u001b[0m \u001b[1;33m=\u001b[0m \u001b[0mstring\u001b[0m\u001b[1;33m\u001b[0m\u001b[0m\n\u001b[0;32m     27\u001b[0m                 \u001b[0mM2\u001b[0m \u001b[1;33m=\u001b[0m \u001b[1;33m[\u001b[0m\u001b[1;33m]\u001b[0m\u001b[1;33m\u001b[0m\u001b[0m\n\u001b[1;32m---> 28\u001b[1;33m             \u001b[1;33m(\u001b[0m\u001b[0mf1\u001b[0m\u001b[1;33m,\u001b[0m \u001b[0mn1\u001b[0m\u001b[1;33m)\u001b[0m \u001b[1;33m=\u001b[0m \u001b[0mdot_Mx\u001b[0m\u001b[1;33m(\u001b[0m\u001b[0mM1\u001b[0m\u001b[1;33m,\u001b[0m \u001b[0mx\u001b[0m\u001b[1;33m,\u001b[0m \u001b[0mw\u001b[0m\u001b[1;33m)\u001b[0m\u001b[1;33m\u001b[0m\u001b[0m\n\u001b[0m\u001b[0;32m     29\u001b[0m             \u001b[1;33m(\u001b[0m\u001b[0mf2\u001b[0m\u001b[1;33m,\u001b[0m \u001b[0mn2\u001b[0m\u001b[1;33m)\u001b[0m \u001b[1;33m=\u001b[0m \u001b[0mdot_Mx\u001b[0m\u001b[1;33m(\u001b[0m\u001b[0mM2\u001b[0m\u001b[1;33m,\u001b[0m \u001b[0mx\u001b[0m\u001b[1;33m,\u001b[0m \u001b[0mw\u001b[0m\u001b[1;33m+\u001b[0m\u001b[0mn1\u001b[0m\u001b[1;33m)\u001b[0m\u001b[1;33m\u001b[0m\u001b[0m\n\u001b[0;32m     30\u001b[0m             \u001b[1;33m(\u001b[0m\u001b[0mf3\u001b[0m\u001b[1;33m,\u001b[0m \u001b[0mn3\u001b[0m\u001b[1;33m)\u001b[0m \u001b[1;33m=\u001b[0m \u001b[0mdot_Mx\u001b[0m\u001b[1;33m(\u001b[0m\u001b[0mM3\u001b[0m\u001b[1;33m,\u001b[0m \u001b[0mx\u001b[0m\u001b[1;33m,\u001b[0m \u001b[0mw\u001b[0m\u001b[1;33m)\u001b[0m\u001b[1;33m\u001b[0m\u001b[0m\n",
      "\u001b[1;32m<ipython-input-22-b3b48d8c61ca>\u001b[0m in \u001b[0;36mdot_Mx\u001b[1;34m(A, x, w)\u001b[0m\n\u001b[0;32m     28\u001b[0m             \u001b[1;33m(\u001b[0m\u001b[0mf1\u001b[0m\u001b[1;33m,\u001b[0m \u001b[0mn1\u001b[0m\u001b[1;33m)\u001b[0m \u001b[1;33m=\u001b[0m \u001b[0mdot_Mx\u001b[0m\u001b[1;33m(\u001b[0m\u001b[0mM1\u001b[0m\u001b[1;33m,\u001b[0m \u001b[0mx\u001b[0m\u001b[1;33m,\u001b[0m \u001b[0mw\u001b[0m\u001b[1;33m)\u001b[0m\u001b[1;33m\u001b[0m\u001b[0m\n\u001b[0;32m     29\u001b[0m             \u001b[1;33m(\u001b[0m\u001b[0mf2\u001b[0m\u001b[1;33m,\u001b[0m \u001b[0mn2\u001b[0m\u001b[1;33m)\u001b[0m \u001b[1;33m=\u001b[0m \u001b[0mdot_Mx\u001b[0m\u001b[1;33m(\u001b[0m\u001b[0mM2\u001b[0m\u001b[1;33m,\u001b[0m \u001b[0mx\u001b[0m\u001b[1;33m,\u001b[0m \u001b[0mw\u001b[0m\u001b[1;33m+\u001b[0m\u001b[0mn1\u001b[0m\u001b[1;33m)\u001b[0m\u001b[1;33m\u001b[0m\u001b[0m\n\u001b[1;32m---> 30\u001b[1;33m             \u001b[1;33m(\u001b[0m\u001b[0mf3\u001b[0m\u001b[1;33m,\u001b[0m \u001b[0mn3\u001b[0m\u001b[1;33m)\u001b[0m \u001b[1;33m=\u001b[0m \u001b[0mdot_Mx\u001b[0m\u001b[1;33m(\u001b[0m\u001b[0mM3\u001b[0m\u001b[1;33m,\u001b[0m \u001b[0mx\u001b[0m\u001b[1;33m,\u001b[0m \u001b[0mw\u001b[0m\u001b[1;33m)\u001b[0m\u001b[1;33m\u001b[0m\u001b[0m\n\u001b[0m\u001b[0;32m     31\u001b[0m \u001b[1;33m\u001b[0m\u001b[0m\n\u001b[0;32m     32\u001b[0m \u001b[1;33m\u001b[0m\u001b[0m\n",
      "\u001b[1;32m<ipython-input-22-b3b48d8c61ca>\u001b[0m in \u001b[0;36mdot_Mx\u001b[1;34m(A, x, w)\u001b[0m\n\u001b[0;32m     28\u001b[0m             \u001b[1;33m(\u001b[0m\u001b[0mf1\u001b[0m\u001b[1;33m,\u001b[0m \u001b[0mn1\u001b[0m\u001b[1;33m)\u001b[0m \u001b[1;33m=\u001b[0m \u001b[0mdot_Mx\u001b[0m\u001b[1;33m(\u001b[0m\u001b[0mM1\u001b[0m\u001b[1;33m,\u001b[0m \u001b[0mx\u001b[0m\u001b[1;33m,\u001b[0m \u001b[0mw\u001b[0m\u001b[1;33m)\u001b[0m\u001b[1;33m\u001b[0m\u001b[0m\n\u001b[0;32m     29\u001b[0m             \u001b[1;33m(\u001b[0m\u001b[0mf2\u001b[0m\u001b[1;33m,\u001b[0m \u001b[0mn2\u001b[0m\u001b[1;33m)\u001b[0m \u001b[1;33m=\u001b[0m \u001b[0mdot_Mx\u001b[0m\u001b[1;33m(\u001b[0m\u001b[0mM2\u001b[0m\u001b[1;33m,\u001b[0m \u001b[0mx\u001b[0m\u001b[1;33m,\u001b[0m \u001b[0mw\u001b[0m\u001b[1;33m+\u001b[0m\u001b[0mn1\u001b[0m\u001b[1;33m)\u001b[0m\u001b[1;33m\u001b[0m\u001b[0m\n\u001b[1;32m---> 30\u001b[1;33m             \u001b[1;33m(\u001b[0m\u001b[0mf3\u001b[0m\u001b[1;33m,\u001b[0m \u001b[0mn3\u001b[0m\u001b[1;33m)\u001b[0m \u001b[1;33m=\u001b[0m \u001b[0mdot_Mx\u001b[0m\u001b[1;33m(\u001b[0m\u001b[0mM3\u001b[0m\u001b[1;33m,\u001b[0m \u001b[0mx\u001b[0m\u001b[1;33m,\u001b[0m \u001b[0mw\u001b[0m\u001b[1;33m)\u001b[0m\u001b[1;33m\u001b[0m\u001b[0m\n\u001b[0m\u001b[0;32m     31\u001b[0m \u001b[1;33m\u001b[0m\u001b[0m\n\u001b[0;32m     32\u001b[0m \u001b[1;33m\u001b[0m\u001b[0m\n",
      "\u001b[1;32m<ipython-input-22-b3b48d8c61ca>\u001b[0m in \u001b[0;36mdot_Mx\u001b[1;34m(A, x, w)\u001b[0m\n\u001b[0;32m     28\u001b[0m             \u001b[1;33m(\u001b[0m\u001b[0mf1\u001b[0m\u001b[1;33m,\u001b[0m \u001b[0mn1\u001b[0m\u001b[1;33m)\u001b[0m \u001b[1;33m=\u001b[0m \u001b[0mdot_Mx\u001b[0m\u001b[1;33m(\u001b[0m\u001b[0mM1\u001b[0m\u001b[1;33m,\u001b[0m \u001b[0mx\u001b[0m\u001b[1;33m,\u001b[0m \u001b[0mw\u001b[0m\u001b[1;33m)\u001b[0m\u001b[1;33m\u001b[0m\u001b[0m\n\u001b[0;32m     29\u001b[0m             \u001b[1;33m(\u001b[0m\u001b[0mf2\u001b[0m\u001b[1;33m,\u001b[0m \u001b[0mn2\u001b[0m\u001b[1;33m)\u001b[0m \u001b[1;33m=\u001b[0m \u001b[0mdot_Mx\u001b[0m\u001b[1;33m(\u001b[0m\u001b[0mM2\u001b[0m\u001b[1;33m,\u001b[0m \u001b[0mx\u001b[0m\u001b[1;33m,\u001b[0m \u001b[0mw\u001b[0m\u001b[1;33m+\u001b[0m\u001b[0mn1\u001b[0m\u001b[1;33m)\u001b[0m\u001b[1;33m\u001b[0m\u001b[0m\n\u001b[1;32m---> 30\u001b[1;33m             \u001b[1;33m(\u001b[0m\u001b[0mf3\u001b[0m\u001b[1;33m,\u001b[0m \u001b[0mn3\u001b[0m\u001b[1;33m)\u001b[0m \u001b[1;33m=\u001b[0m \u001b[0mdot_Mx\u001b[0m\u001b[1;33m(\u001b[0m\u001b[0mM3\u001b[0m\u001b[1;33m,\u001b[0m \u001b[0mx\u001b[0m\u001b[1;33m,\u001b[0m \u001b[0mw\u001b[0m\u001b[1;33m)\u001b[0m\u001b[1;33m\u001b[0m\u001b[0m\n\u001b[0m\u001b[0;32m     31\u001b[0m \u001b[1;33m\u001b[0m\u001b[0m\n\u001b[0;32m     32\u001b[0m \u001b[1;33m\u001b[0m\u001b[0m\n",
      "\u001b[1;32m<ipython-input-22-b3b48d8c61ca>\u001b[0m in \u001b[0;36mdot_Mx\u001b[1;34m(A, x, w)\u001b[0m\n\u001b[0;32m     26\u001b[0m                 \u001b[0mM1\u001b[0m \u001b[1;33m=\u001b[0m \u001b[0mstring\u001b[0m\u001b[1;33m\u001b[0m\u001b[0m\n\u001b[0;32m     27\u001b[0m                 \u001b[0mM2\u001b[0m \u001b[1;33m=\u001b[0m \u001b[1;33m[\u001b[0m\u001b[1;33m]\u001b[0m\u001b[1;33m\u001b[0m\u001b[0m\n\u001b[1;32m---> 28\u001b[1;33m             \u001b[1;33m(\u001b[0m\u001b[0mf1\u001b[0m\u001b[1;33m,\u001b[0m \u001b[0mn1\u001b[0m\u001b[1;33m)\u001b[0m \u001b[1;33m=\u001b[0m \u001b[0mdot_Mx\u001b[0m\u001b[1;33m(\u001b[0m\u001b[0mM1\u001b[0m\u001b[1;33m,\u001b[0m \u001b[0mx\u001b[0m\u001b[1;33m,\u001b[0m \u001b[0mw\u001b[0m\u001b[1;33m)\u001b[0m\u001b[1;33m\u001b[0m\u001b[0m\n\u001b[0m\u001b[0;32m     29\u001b[0m             \u001b[1;33m(\u001b[0m\u001b[0mf2\u001b[0m\u001b[1;33m,\u001b[0m \u001b[0mn2\u001b[0m\u001b[1;33m)\u001b[0m \u001b[1;33m=\u001b[0m \u001b[0mdot_Mx\u001b[0m\u001b[1;33m(\u001b[0m\u001b[0mM2\u001b[0m\u001b[1;33m,\u001b[0m \u001b[0mx\u001b[0m\u001b[1;33m,\u001b[0m \u001b[0mw\u001b[0m\u001b[1;33m+\u001b[0m\u001b[0mn1\u001b[0m\u001b[1;33m)\u001b[0m\u001b[1;33m\u001b[0m\u001b[0m\n\u001b[0;32m     30\u001b[0m             \u001b[1;33m(\u001b[0m\u001b[0mf3\u001b[0m\u001b[1;33m,\u001b[0m \u001b[0mn3\u001b[0m\u001b[1;33m)\u001b[0m \u001b[1;33m=\u001b[0m \u001b[0mdot_Mx\u001b[0m\u001b[1;33m(\u001b[0m\u001b[0mM3\u001b[0m\u001b[1;33m,\u001b[0m \u001b[0mx\u001b[0m\u001b[1;33m,\u001b[0m \u001b[0mw\u001b[0m\u001b[1;33m)\u001b[0m\u001b[1;33m\u001b[0m\u001b[0m\n",
      "\u001b[1;32m<ipython-input-22-b3b48d8c61ca>\u001b[0m in \u001b[0;36mdot_Mx\u001b[1;34m(A, x, w)\u001b[0m\n\u001b[0;32m     28\u001b[0m             \u001b[1;33m(\u001b[0m\u001b[0mf1\u001b[0m\u001b[1;33m,\u001b[0m \u001b[0mn1\u001b[0m\u001b[1;33m)\u001b[0m \u001b[1;33m=\u001b[0m \u001b[0mdot_Mx\u001b[0m\u001b[1;33m(\u001b[0m\u001b[0mM1\u001b[0m\u001b[1;33m,\u001b[0m \u001b[0mx\u001b[0m\u001b[1;33m,\u001b[0m \u001b[0mw\u001b[0m\u001b[1;33m)\u001b[0m\u001b[1;33m\u001b[0m\u001b[0m\n\u001b[0;32m     29\u001b[0m             \u001b[1;33m(\u001b[0m\u001b[0mf2\u001b[0m\u001b[1;33m,\u001b[0m \u001b[0mn2\u001b[0m\u001b[1;33m)\u001b[0m \u001b[1;33m=\u001b[0m \u001b[0mdot_Mx\u001b[0m\u001b[1;33m(\u001b[0m\u001b[0mM2\u001b[0m\u001b[1;33m,\u001b[0m \u001b[0mx\u001b[0m\u001b[1;33m,\u001b[0m \u001b[0mw\u001b[0m\u001b[1;33m+\u001b[0m\u001b[0mn1\u001b[0m\u001b[1;33m)\u001b[0m\u001b[1;33m\u001b[0m\u001b[0m\n\u001b[1;32m---> 30\u001b[1;33m             \u001b[1;33m(\u001b[0m\u001b[0mf3\u001b[0m\u001b[1;33m,\u001b[0m \u001b[0mn3\u001b[0m\u001b[1;33m)\u001b[0m \u001b[1;33m=\u001b[0m \u001b[0mdot_Mx\u001b[0m\u001b[1;33m(\u001b[0m\u001b[0mM3\u001b[0m\u001b[1;33m,\u001b[0m \u001b[0mx\u001b[0m\u001b[1;33m,\u001b[0m \u001b[0mw\u001b[0m\u001b[1;33m)\u001b[0m\u001b[1;33m\u001b[0m\u001b[0m\n\u001b[0m\u001b[0;32m     31\u001b[0m \u001b[1;33m\u001b[0m\u001b[0m\n\u001b[0;32m     32\u001b[0m \u001b[1;33m\u001b[0m\u001b[0m\n",
      "\u001b[1;32m<ipython-input-22-b3b48d8c61ca>\u001b[0m in \u001b[0;36mdot_Mx\u001b[1;34m(A, x, w)\u001b[0m\n\u001b[0;32m      1\u001b[0m \u001b[1;32mdef\u001b[0m \u001b[0mdot_Mx\u001b[0m\u001b[1;33m(\u001b[0m\u001b[0mA\u001b[0m\u001b[1;33m,\u001b[0m \u001b[0mx\u001b[0m\u001b[1;33m,\u001b[0m \u001b[0mw\u001b[0m\u001b[1;33m)\u001b[0m\u001b[1;33m:\u001b[0m\u001b[1;33m\u001b[0m\u001b[0m\n\u001b[1;32m----> 2\u001b[1;33m     \u001b[0mM\u001b[0m \u001b[1;33m=\u001b[0m \u001b[0mcp\u001b[0m\u001b[1;33m.\u001b[0m\u001b[0mdeepcopy\u001b[0m\u001b[1;33m(\u001b[0m\u001b[0mA\u001b[0m\u001b[1;33m)\u001b[0m\u001b[1;33m\u001b[0m\u001b[0m\n\u001b[0m\u001b[0;32m      3\u001b[0m     \u001b[1;32mif\u001b[0m \u001b[1;33m(\u001b[0m\u001b[0mtype\u001b[0m\u001b[1;33m(\u001b[0m\u001b[0mM\u001b[0m\u001b[1;33m)\u001b[0m \u001b[1;33m==\u001b[0m \u001b[0mtuple\u001b[0m\u001b[1;33m)\u001b[0m\u001b[1;33m:\u001b[0m\u001b[1;33m\u001b[0m\u001b[0m\n\u001b[0;32m      4\u001b[0m         \u001b[0mU\u001b[0m\u001b[1;33m,\u001b[0m \u001b[0ms\u001b[0m\u001b[1;33m,\u001b[0m \u001b[0mV\u001b[0m \u001b[1;33m=\u001b[0m \u001b[0mM\u001b[0m\u001b[1;33m\u001b[0m\u001b[0m\n\u001b[0;32m      5\u001b[0m         \u001b[0mS\u001b[0m \u001b[1;33m=\u001b[0m \u001b[0mnp\u001b[0m\u001b[1;33m.\u001b[0m\u001b[0mzeros\u001b[0m\u001b[1;33m(\u001b[0m\u001b[1;33m(\u001b[0m\u001b[0mU\u001b[0m\u001b[1;33m.\u001b[0m\u001b[0mshape\u001b[0m\u001b[1;33m[\u001b[0m\u001b[1;36m1\u001b[0m\u001b[1;33m]\u001b[0m\u001b[1;33m,\u001b[0m \u001b[0mV\u001b[0m\u001b[1;33m.\u001b[0m\u001b[0mshape\u001b[0m\u001b[1;33m[\u001b[0m\u001b[1;36m0\u001b[0m\u001b[1;33m]\u001b[0m\u001b[1;33m)\u001b[0m\u001b[1;33m,\u001b[0m \u001b[0mcomplex\u001b[0m\u001b[1;33m)\u001b[0m\u001b[1;33m\u001b[0m\u001b[0m\n",
      "\u001b[1;32m/home/campaign/anaconda/lib/python2.7/copy.pyc\u001b[0m in \u001b[0;36mdeepcopy\u001b[1;34m(x, memo, _nil)\u001b[0m\n\u001b[0;32m    161\u001b[0m     \u001b[0mcopier\u001b[0m \u001b[1;33m=\u001b[0m \u001b[0m_deepcopy_dispatch\u001b[0m\u001b[1;33m.\u001b[0m\u001b[0mget\u001b[0m\u001b[1;33m(\u001b[0m\u001b[0mcls\u001b[0m\u001b[1;33m)\u001b[0m\u001b[1;33m\u001b[0m\u001b[0m\n\u001b[0;32m    162\u001b[0m     \u001b[1;32mif\u001b[0m \u001b[0mcopier\u001b[0m\u001b[1;33m:\u001b[0m\u001b[1;33m\u001b[0m\u001b[0m\n\u001b[1;32m--> 163\u001b[1;33m         \u001b[0my\u001b[0m \u001b[1;33m=\u001b[0m \u001b[0mcopier\u001b[0m\u001b[1;33m(\u001b[0m\u001b[0mx\u001b[0m\u001b[1;33m,\u001b[0m \u001b[0mmemo\u001b[0m\u001b[1;33m)\u001b[0m\u001b[1;33m\u001b[0m\u001b[0m\n\u001b[0m\u001b[0;32m    164\u001b[0m     \u001b[1;32melse\u001b[0m\u001b[1;33m:\u001b[0m\u001b[1;33m\u001b[0m\u001b[0m\n\u001b[0;32m    165\u001b[0m         \u001b[1;32mtry\u001b[0m\u001b[1;33m:\u001b[0m\u001b[1;33m\u001b[0m\u001b[0m\n",
      "\u001b[1;32m/home/campaign/anaconda/lib/python2.7/copy.pyc\u001b[0m in \u001b[0;36m_deepcopy_list\u001b[1;34m(x, memo)\u001b[0m\n\u001b[0;32m    228\u001b[0m     \u001b[0mmemo\u001b[0m\u001b[1;33m[\u001b[0m\u001b[0mid\u001b[0m\u001b[1;33m(\u001b[0m\u001b[0mx\u001b[0m\u001b[1;33m)\u001b[0m\u001b[1;33m]\u001b[0m \u001b[1;33m=\u001b[0m \u001b[0my\u001b[0m\u001b[1;33m\u001b[0m\u001b[0m\n\u001b[0;32m    229\u001b[0m     \u001b[1;32mfor\u001b[0m \u001b[0ma\u001b[0m \u001b[1;32min\u001b[0m \u001b[0mx\u001b[0m\u001b[1;33m:\u001b[0m\u001b[1;33m\u001b[0m\u001b[0m\n\u001b[1;32m--> 230\u001b[1;33m         \u001b[0my\u001b[0m\u001b[1;33m.\u001b[0m\u001b[0mappend\u001b[0m\u001b[1;33m(\u001b[0m\u001b[0mdeepcopy\u001b[0m\u001b[1;33m(\u001b[0m\u001b[0ma\u001b[0m\u001b[1;33m,\u001b[0m \u001b[0mmemo\u001b[0m\u001b[1;33m)\u001b[0m\u001b[1;33m)\u001b[0m\u001b[1;33m\u001b[0m\u001b[0m\n\u001b[0m\u001b[0;32m    231\u001b[0m     \u001b[1;32mreturn\u001b[0m \u001b[0my\u001b[0m\u001b[1;33m\u001b[0m\u001b[0m\n\u001b[0;32m    232\u001b[0m \u001b[0md\u001b[0m\u001b[1;33m[\u001b[0m\u001b[0mlist\u001b[0m\u001b[1;33m]\u001b[0m \u001b[1;33m=\u001b[0m \u001b[0m_deepcopy_list\u001b[0m\u001b[1;33m\u001b[0m\u001b[0m\n",
      "\u001b[1;32m/home/campaign/anaconda/lib/python2.7/copy.pyc\u001b[0m in \u001b[0;36mdeepcopy\u001b[1;34m(x, memo, _nil)\u001b[0m\n\u001b[0;32m    161\u001b[0m     \u001b[0mcopier\u001b[0m \u001b[1;33m=\u001b[0m \u001b[0m_deepcopy_dispatch\u001b[0m\u001b[1;33m.\u001b[0m\u001b[0mget\u001b[0m\u001b[1;33m(\u001b[0m\u001b[0mcls\u001b[0m\u001b[1;33m)\u001b[0m\u001b[1;33m\u001b[0m\u001b[0m\n\u001b[0;32m    162\u001b[0m     \u001b[1;32mif\u001b[0m \u001b[0mcopier\u001b[0m\u001b[1;33m:\u001b[0m\u001b[1;33m\u001b[0m\u001b[0m\n\u001b[1;32m--> 163\u001b[1;33m         \u001b[0my\u001b[0m \u001b[1;33m=\u001b[0m \u001b[0mcopier\u001b[0m\u001b[1;33m(\u001b[0m\u001b[0mx\u001b[0m\u001b[1;33m,\u001b[0m \u001b[0mmemo\u001b[0m\u001b[1;33m)\u001b[0m\u001b[1;33m\u001b[0m\u001b[0m\n\u001b[0m\u001b[0;32m    164\u001b[0m     \u001b[1;32melse\u001b[0m\u001b[1;33m:\u001b[0m\u001b[1;33m\u001b[0m\u001b[0m\n\u001b[0;32m    165\u001b[0m         \u001b[1;32mtry\u001b[0m\u001b[1;33m:\u001b[0m\u001b[1;33m\u001b[0m\u001b[0m\n",
      "\u001b[1;32m/home/campaign/anaconda/lib/python2.7/copy.pyc\u001b[0m in \u001b[0;36m_deepcopy_list\u001b[1;34m(x, memo)\u001b[0m\n\u001b[0;32m    228\u001b[0m     \u001b[0mmemo\u001b[0m\u001b[1;33m[\u001b[0m\u001b[0mid\u001b[0m\u001b[1;33m(\u001b[0m\u001b[0mx\u001b[0m\u001b[1;33m)\u001b[0m\u001b[1;33m]\u001b[0m \u001b[1;33m=\u001b[0m \u001b[0my\u001b[0m\u001b[1;33m\u001b[0m\u001b[0m\n\u001b[0;32m    229\u001b[0m     \u001b[1;32mfor\u001b[0m \u001b[0ma\u001b[0m \u001b[1;32min\u001b[0m \u001b[0mx\u001b[0m\u001b[1;33m:\u001b[0m\u001b[1;33m\u001b[0m\u001b[0m\n\u001b[1;32m--> 230\u001b[1;33m         \u001b[0my\u001b[0m\u001b[1;33m.\u001b[0m\u001b[0mappend\u001b[0m\u001b[1;33m(\u001b[0m\u001b[0mdeepcopy\u001b[0m\u001b[1;33m(\u001b[0m\u001b[0ma\u001b[0m\u001b[1;33m,\u001b[0m \u001b[0mmemo\u001b[0m\u001b[1;33m)\u001b[0m\u001b[1;33m)\u001b[0m\u001b[1;33m\u001b[0m\u001b[0m\n\u001b[0m\u001b[0;32m    231\u001b[0m     \u001b[1;32mreturn\u001b[0m \u001b[0my\u001b[0m\u001b[1;33m\u001b[0m\u001b[0m\n\u001b[0;32m    232\u001b[0m \u001b[0md\u001b[0m\u001b[1;33m[\u001b[0m\u001b[0mlist\u001b[0m\u001b[1;33m]\u001b[0m \u001b[1;33m=\u001b[0m \u001b[0m_deepcopy_list\u001b[0m\u001b[1;33m\u001b[0m\u001b[0m\n",
      "\u001b[1;32m/home/campaign/anaconda/lib/python2.7/copy.pyc\u001b[0m in \u001b[0;36mdeepcopy\u001b[1;34m(x, memo, _nil)\u001b[0m\n\u001b[0;32m    161\u001b[0m     \u001b[0mcopier\u001b[0m \u001b[1;33m=\u001b[0m \u001b[0m_deepcopy_dispatch\u001b[0m\u001b[1;33m.\u001b[0m\u001b[0mget\u001b[0m\u001b[1;33m(\u001b[0m\u001b[0mcls\u001b[0m\u001b[1;33m)\u001b[0m\u001b[1;33m\u001b[0m\u001b[0m\n\u001b[0;32m    162\u001b[0m     \u001b[1;32mif\u001b[0m \u001b[0mcopier\u001b[0m\u001b[1;33m:\u001b[0m\u001b[1;33m\u001b[0m\u001b[0m\n\u001b[1;32m--> 163\u001b[1;33m         \u001b[0my\u001b[0m \u001b[1;33m=\u001b[0m \u001b[0mcopier\u001b[0m\u001b[1;33m(\u001b[0m\u001b[0mx\u001b[0m\u001b[1;33m,\u001b[0m \u001b[0mmemo\u001b[0m\u001b[1;33m)\u001b[0m\u001b[1;33m\u001b[0m\u001b[0m\n\u001b[0m\u001b[0;32m    164\u001b[0m     \u001b[1;32melse\u001b[0m\u001b[1;33m:\u001b[0m\u001b[1;33m\u001b[0m\u001b[0m\n\u001b[0;32m    165\u001b[0m         \u001b[1;32mtry\u001b[0m\u001b[1;33m:\u001b[0m\u001b[1;33m\u001b[0m\u001b[0m\n",
      "\u001b[1;32m/home/campaign/anaconda/lib/python2.7/copy.pyc\u001b[0m in \u001b[0;36m_deepcopy_list\u001b[1;34m(x, memo)\u001b[0m\n\u001b[0;32m    228\u001b[0m     \u001b[0mmemo\u001b[0m\u001b[1;33m[\u001b[0m\u001b[0mid\u001b[0m\u001b[1;33m(\u001b[0m\u001b[0mx\u001b[0m\u001b[1;33m)\u001b[0m\u001b[1;33m]\u001b[0m \u001b[1;33m=\u001b[0m \u001b[0my\u001b[0m\u001b[1;33m\u001b[0m\u001b[0m\n\u001b[0;32m    229\u001b[0m     \u001b[1;32mfor\u001b[0m \u001b[0ma\u001b[0m \u001b[1;32min\u001b[0m \u001b[0mx\u001b[0m\u001b[1;33m:\u001b[0m\u001b[1;33m\u001b[0m\u001b[0m\n\u001b[1;32m--> 230\u001b[1;33m         \u001b[0my\u001b[0m\u001b[1;33m.\u001b[0m\u001b[0mappend\u001b[0m\u001b[1;33m(\u001b[0m\u001b[0mdeepcopy\u001b[0m\u001b[1;33m(\u001b[0m\u001b[0ma\u001b[0m\u001b[1;33m,\u001b[0m \u001b[0mmemo\u001b[0m\u001b[1;33m)\u001b[0m\u001b[1;33m)\u001b[0m\u001b[1;33m\u001b[0m\u001b[0m\n\u001b[0m\u001b[0;32m    231\u001b[0m     \u001b[1;32mreturn\u001b[0m \u001b[0my\u001b[0m\u001b[1;33m\u001b[0m\u001b[0m\n\u001b[0;32m    232\u001b[0m \u001b[0md\u001b[0m\u001b[1;33m[\u001b[0m\u001b[0mlist\u001b[0m\u001b[1;33m]\u001b[0m \u001b[1;33m=\u001b[0m \u001b[0m_deepcopy_list\u001b[0m\u001b[1;33m\u001b[0m\u001b[0m\n",
      "\u001b[1;32m/home/campaign/anaconda/lib/python2.7/copy.pyc\u001b[0m in \u001b[0;36mdeepcopy\u001b[1;34m(x, memo, _nil)\u001b[0m\n\u001b[0;32m    161\u001b[0m     \u001b[0mcopier\u001b[0m \u001b[1;33m=\u001b[0m \u001b[0m_deepcopy_dispatch\u001b[0m\u001b[1;33m.\u001b[0m\u001b[0mget\u001b[0m\u001b[1;33m(\u001b[0m\u001b[0mcls\u001b[0m\u001b[1;33m)\u001b[0m\u001b[1;33m\u001b[0m\u001b[0m\n\u001b[0;32m    162\u001b[0m     \u001b[1;32mif\u001b[0m \u001b[0mcopier\u001b[0m\u001b[1;33m:\u001b[0m\u001b[1;33m\u001b[0m\u001b[0m\n\u001b[1;32m--> 163\u001b[1;33m         \u001b[0my\u001b[0m \u001b[1;33m=\u001b[0m \u001b[0mcopier\u001b[0m\u001b[1;33m(\u001b[0m\u001b[0mx\u001b[0m\u001b[1;33m,\u001b[0m \u001b[0mmemo\u001b[0m\u001b[1;33m)\u001b[0m\u001b[1;33m\u001b[0m\u001b[0m\n\u001b[0m\u001b[0;32m    164\u001b[0m     \u001b[1;32melse\u001b[0m\u001b[1;33m:\u001b[0m\u001b[1;33m\u001b[0m\u001b[0m\n\u001b[0;32m    165\u001b[0m         \u001b[1;32mtry\u001b[0m\u001b[1;33m:\u001b[0m\u001b[1;33m\u001b[0m\u001b[0m\n",
      "\u001b[1;32m/home/campaign/anaconda/lib/python2.7/copy.pyc\u001b[0m in \u001b[0;36m_deepcopy_tuple\u001b[1;34m(x, memo)\u001b[0m\n\u001b[0;32m    235\u001b[0m     \u001b[0my\u001b[0m \u001b[1;33m=\u001b[0m \u001b[1;33m[\u001b[0m\u001b[1;33m]\u001b[0m\u001b[1;33m\u001b[0m\u001b[0m\n\u001b[0;32m    236\u001b[0m     \u001b[1;32mfor\u001b[0m \u001b[0ma\u001b[0m \u001b[1;32min\u001b[0m \u001b[0mx\u001b[0m\u001b[1;33m:\u001b[0m\u001b[1;33m\u001b[0m\u001b[0m\n\u001b[1;32m--> 237\u001b[1;33m         \u001b[0my\u001b[0m\u001b[1;33m.\u001b[0m\u001b[0mappend\u001b[0m\u001b[1;33m(\u001b[0m\u001b[0mdeepcopy\u001b[0m\u001b[1;33m(\u001b[0m\u001b[0ma\u001b[0m\u001b[1;33m,\u001b[0m \u001b[0mmemo\u001b[0m\u001b[1;33m)\u001b[0m\u001b[1;33m)\u001b[0m\u001b[1;33m\u001b[0m\u001b[0m\n\u001b[0m\u001b[0;32m    238\u001b[0m     \u001b[0md\u001b[0m \u001b[1;33m=\u001b[0m \u001b[0mid\u001b[0m\u001b[1;33m(\u001b[0m\u001b[0mx\u001b[0m\u001b[1;33m)\u001b[0m\u001b[1;33m\u001b[0m\u001b[0m\n\u001b[0;32m    239\u001b[0m     \u001b[1;32mtry\u001b[0m\u001b[1;33m:\u001b[0m\u001b[1;33m\u001b[0m\u001b[0m\n",
      "\u001b[1;32m/home/campaign/anaconda/lib/python2.7/copy.pyc\u001b[0m in \u001b[0;36mdeepcopy\u001b[1;34m(x, memo, _nil)\u001b[0m\n\u001b[0;32m    172\u001b[0m             \u001b[0mcopier\u001b[0m \u001b[1;33m=\u001b[0m \u001b[0mgetattr\u001b[0m\u001b[1;33m(\u001b[0m\u001b[0mx\u001b[0m\u001b[1;33m,\u001b[0m \u001b[1;34m\"__deepcopy__\"\u001b[0m\u001b[1;33m,\u001b[0m \u001b[0mNone\u001b[0m\u001b[1;33m)\u001b[0m\u001b[1;33m\u001b[0m\u001b[0m\n\u001b[0;32m    173\u001b[0m             \u001b[1;32mif\u001b[0m \u001b[0mcopier\u001b[0m\u001b[1;33m:\u001b[0m\u001b[1;33m\u001b[0m\u001b[0m\n\u001b[1;32m--> 174\u001b[1;33m                 \u001b[0my\u001b[0m \u001b[1;33m=\u001b[0m \u001b[0mcopier\u001b[0m\u001b[1;33m(\u001b[0m\u001b[0mmemo\u001b[0m\u001b[1;33m)\u001b[0m\u001b[1;33m\u001b[0m\u001b[0m\n\u001b[0m\u001b[0;32m    175\u001b[0m             \u001b[1;32melse\u001b[0m\u001b[1;33m:\u001b[0m\u001b[1;33m\u001b[0m\u001b[0m\n\u001b[0;32m    176\u001b[0m                 \u001b[0mreductor\u001b[0m \u001b[1;33m=\u001b[0m \u001b[0mdispatch_table\u001b[0m\u001b[1;33m.\u001b[0m\u001b[0mget\u001b[0m\u001b[1;33m(\u001b[0m\u001b[0mcls\u001b[0m\u001b[1;33m)\u001b[0m\u001b[1;33m\u001b[0m\u001b[0m\n",
      "\u001b[1;31mKeyboardInterrupt\u001b[0m: "
     ]
    }
   ],
   "source": [
    "mat = np.ndarray((nr, nv), np.complex128)\n",
    "for i in range(nr):\n",
    "    mat[:,i] = final_dot(np.eye(nr)[:,i])\n",
    "#print mat\n",
    "\n",
    "#f1 = final_dot(x)\n",
    "#print f1\n",
    "#np.linalg.svd(mat)[1]\n",
    "#print usual_A, mat"
   ]
  },
  {
   "cell_type": "code",
   "execution_count": 91,
   "metadata": {
    "collapsed": false,
    "scrolled": true
   },
   "outputs": [
    {
     "name": "stdout",
     "output_type": "stream",
     "text": [
      "0:00:22.169631\n",
      "0.00157878739333\n",
      "1000\n",
      "10 2\n"
     ]
    }
   ],
   "source": [
    "t = datetime.today()\n",
    "usual_A = usual_count_A(x1,y1,x2,y2)\n",
    "usual_f = usual_dot_Ax(usual_A,x)\n",
    "f = final_dot(x)\n",
    "norm_between_f = norm_ff(usual_f, f)\n",
    "print datetime.today()-t\n",
    "print norm_between_f\n",
    "print size(f)\n",
    "print k, C0\n",
    "\n",
    "#print np.linalg.matrix_rank(mat)\n",
    "#print np.linalg.svd(usual_A-mat)[1][0]\n",
    "#print np.linalg.svd(mat)[1][0]\n",
    "#print np.linalg.svd(np.linalg.inv(mat))[1][0]\n",
    "#print np.linalg.svd(usual_A-mat)[1][0]*np.linalg.svd(np.linalg.inv(mat))[1][0]\n",
    "#print np.linalg.svd(usual_A-mat)[1][0]/np.linalg.svd(usual_A)[1][0]"
   ]
  },
  {
   "cell_type": "code",
   "execution_count": 1,
   "metadata": {
    "collapsed": false
   },
   "outputs": [],
   "source": [
    "#from pypropack import svdp\n",
    "#import scipy.sparse.linalg as la\n",
    "\n",
    "#linop_diff = la.LinearOperator((nr, nv), matvec = lambda x: final_dot(x)-usual_A.dot(x), rmatvec = lambda x: final_dot_r(x)-usual_A.T.dot(x), dtype = np.complex128)\n",
    "#linop_A = la.LinearOperator((nr, nv), matvec = lambda x: usual_A.dot(x), rmatvec = lambda x: usual_A.T.dot(x), dtype = np.complex128)\n",
    "#s_diff = svdp(linop_diff, 1, compute_u=0, compute_v=0,kmax=100)\n",
    "#s_A = svdp(linop_A, 1, compute_u=0, compute_v=0,kmax=100)\n",
    "#print s_diff[0]/s_A[0]"
   ]
  },
  {
   "cell_type": "code",
   "execution_count": 26,
   "metadata": {
    "collapsed": false
   },
   "outputs": [],
   "source": [
    "#svdp?\n",
    "#import numpy as np\n",
    "#from pypropack import svdp\n",
    "\n",
    "#A = np.random.randn(30, 30, 2).view(dtype=np.complex128)[:,:,0]\n",
    "\n",
    "#u, sigma, vt = svdp(A, 1, kmax = 100)"
   ]
  },
  {
   "cell_type": "code",
   "execution_count": 25,
   "metadata": {
    "collapsed": false
   },
   "outputs": [],
   "source": [
    "import sys\n",
    "def show_sizeof(x, level=0):\n",
    "\n",
    "    #print \"\\t\" * level, x.__class__, sys.getsizeof(x), x\n",
    "    #res = sys.getsizeof(x)\n",
    "    res = 0.\n",
    "    if hasattr(x, '__iter__'):\n",
    "        #if hasattr(x, 'items'):\n",
    "        if isinstance(x, np.ndarray):\n",
    "            #for xx in x.items():\n",
    "                #res += show_sizeof(xx, level + 1)\n",
    "            res += x.nbytes\n",
    "        else:\n",
    "            for xx in x:\n",
    "                res += show_sizeof(xx, level + 1)\n",
    "    return res"
   ]
  },
  {
   "cell_type": "code",
   "execution_count": 95,
   "metadata": {
    "collapsed": false
   },
   "outputs": [
    {
     "name": "stdout",
     "output_type": "stream",
     "text": [
      "7069328.0 16000000.0\n",
      "989 1\n"
     ]
    }
   ],
   "source": [
    "print show_sizeof(A), show_sizeof(usual_A)\n",
    "#usual_A = usual_count_A(x1,y1,x2,y2)\n",
    "print  np.linalg.matrix_rank(usual_A),k\n"
   ]
  },
  {
   "cell_type": "code",
   "execution_count": 73,
   "metadata": {
    "collapsed": true
   },
   "outputs": [],
   "source": [
    "k=1\n",
    "eps=0.01\n",
    "C0 = 2"
   ]
  },
  {
   "cell_type": "code",
   "execution_count": 71,
   "metadata": {
    "collapsed": false
   },
   "outputs": [
    {
     "name": "stdout",
     "output_type": "stream",
     "text": [
      "1 4\n"
     ]
    }
   ],
   "source": [
    "print k, C0"
   ]
  },
  {
   "cell_type": "code",
   "execution_count": 74,
   "metadata": {
    "collapsed": false,
    "scrolled": true
   },
   "outputs": [
    {
     "name": "stdout",
     "output_type": "stream",
     "text": [
      "100\n",
      "[1, 0.5, 0.25, 0.125, 0.0625, 0.03125, 0.015625, 0.0078125, 0.00390625, 0.001953125, 0.0009765625, 0.00048828125, 0.000244140625, 0.0001220703125]\n",
      "0.01\n",
      "k= 1 2\n"
     ]
    }
   ],
   "source": [
    "def character_of_A(n):\n",
    "    \n",
    "    def final_dot (x):\n",
    "        x_new = []\n",
    "        f_true = []\n",
    "        for i in range(0,nv):\n",
    "            x_new.append(x[V.data[i]])\n",
    "\n",
    "        f = dot_Mx(A,x_new,0)\n",
    "\n",
    "        for i in range (0, nr):\n",
    "            f_true.append(0)\n",
    "        for i in range (0, nr):\n",
    "            f_true[R.data[i]] = f[0][i]\n",
    "\n",
    "        #print size(x_new)\n",
    "\n",
    "        return f_true\n",
    "    \n",
    "    \n",
    "    global nr \n",
    "    global nv \n",
    "    global x1\n",
    "    global y1\n",
    "    global x2\n",
    "    global y2\n",
    "    global eps\n",
    "    global k\n",
    "    nr = n\n",
    "    nv = n\n",
    "    x1=[]\n",
    "    y1=[]\n",
    "    x2=[]\n",
    "    y2=[]\n",
    "    for i in range (0,nr):\n",
    "        x1.append(random.uniform(0,1))\n",
    "        y1.append(random.uniform(0,1))\n",
    "    for i in range (0,nv):\n",
    "        x2.append(random.uniform(0,1))\n",
    "        y2.append(random.uniform(0,1))\n",
    "\n",
    "    #x2 = x1\n",
    "    #y2 = y1\n",
    "    \n",
    "    x=[]\n",
    "\n",
    "    for i in range (0,nv):\n",
    "        x.append(i)\n",
    "        \n",
    "    n_r  = []\n",
    "    n_v  = []\n",
    "    for i in range (0,nr):\n",
    "        n_r.append(i)\n",
    "    for i in range (0,nv):\n",
    "        n_v.append(i)\n",
    "    \n",
    "#    k=300\n",
    "\n",
    "    R = tree(n_r,[0,nr, None, None])\n",
    "    V = tree(n_v,[0,nv, None, None])\n",
    "    pre_count_A(R,V)\n",
    "    A = count_A(R,V)\n",
    "    usual_A = usual_count_A(x1,y1,x2,y2)\n",
    "#    print [show_sizeof(A),show_sizeof(usual_A)]\n",
    "    usual_f = usual_dot_Ax(usual_A,x)\n",
    "    f = final_dot(x)\n",
    "#    norm_between_f = \n",
    "#    print n, size(x)\n",
    "    return [show_sizeof(A),show_sizeof(usual_A), norm_ff(usual_f, f), np.linalg.matrix_rank(usual_A)]\n",
    "\n",
    "\n",
    "print size(x)\n",
    "\n",
    "log_n_list = []\n",
    "m = 10\n",
    "for i in range (1, m+1):\n",
    "    log_n_list.append(2**i) \n",
    "\n",
    "#k=300\n",
    "    \n",
    "log_n_list1 = []\n",
    "l = 14\n",
    "for i in range (0, l):\n",
    "    log_n_list1.append(2**(-i)) \n",
    "\n",
    "print log_n_list1\n",
    "\n",
    "ylist = [character_of_A(n) for n in log_n_list]\n",
    "\n",
    "#print ylist[1][0]\n",
    "#ylist2 = [character_of_A(2**n)[1] for n in log_n_list]\n",
    "\n",
    "\n",
    "plt.figure(1)\n",
    "plt.title('Amount of informaton')\n",
    "plt.xlabel('n')\n",
    "plt.ylabel('Bytes')\n",
    "plt.plot (log_n_list, [ylist[i][0] for i in range (0,m)])\n",
    "plt.plot (log_n_list, [ylist[i][1] for i in range (0,m)])\n",
    "plt.figure(2)\n",
    "plt.title('delta f/|f|')\n",
    "plt.xlabel('n')\n",
    "plt.ylabel('delta f/|f|')\n",
    "\n",
    "plt.plot (log_n_list, [ylist[i][2] for i in range (0,m)])\n",
    "print eps\n",
    "#eps = 1.\n",
    "#plt.plot (log_n_list, [ylist[i][2] for i in range (0,m)])\n",
    "plt.figure(3)\n",
    "plt.title('Rank usual A')\n",
    "plt.xlabel('n')\n",
    "plt.ylabel('Rank')\n",
    "plt.plot (log_n_list, [ylist[i][3] for i in range (0,m)])\n",
    "\n",
    "#pylab.plot (log_n_list, ylist2)\n",
    "\n",
    "\n",
    "plt.show()\n",
    "print 'k=', k, C0"
   ]
  },
  {
   "cell_type": "code",
   "execution_count": null,
   "metadata": {
    "collapsed": false
   },
   "outputs": [],
   "source": [
    "len(log_n_list)"
   ]
  },
  {
   "cell_type": "code",
   "execution_count": 24,
   "metadata": {
    "collapsed": false
   },
   "outputs": [
    {
     "data": {
      "text/plain": [
       "(-1+1.2246467991473532e-16j)"
      ]
     },
     "execution_count": 24,
     "metadata": {},
     "output_type": "execute_result"
    }
   ],
   "source": [
    "u = 2+3j\n",
    "u\n",
    "s = complex(0,1)\n",
    "cmath.exp(s*pi)"
   ]
  },
  {
   "cell_type": "code",
   "execution_count": 94,
   "metadata": {
    "collapsed": false
   },
   "outputs": [],
   "source": [
    "k = 5.\n",
    "r = 0.5\n",
    "g = cmath.exp(complex(0,1)*k*r)/r\n",
    "#exp**(s*pi)"
   ]
  },
  {
   "cell_type": "code",
   "execution_count": 95,
   "metadata": {
    "collapsed": false
   },
   "outputs": [
    {
     "data": {
      "text/plain": [
       "complex"
      ]
     },
     "execution_count": 95,
     "metadata": {},
     "output_type": "execute_result"
    }
   ],
   "source": [
    "type(g)"
   ]
  },
  {
   "cell_type": "code",
   "execution_count": 105,
   "metadata": {
    "collapsed": false
   },
   "outputs": [
    {
     "data": {
      "text/plain": [
       "array(-1.6022872310938674)"
      ]
     },
     "execution_count": 105,
     "metadata": {},
     "output_type": "execute_result"
    }
   ],
   "source": [
    "a = [0.+0.j, 0.+0.j]\n",
    "a[1]=g\n",
    "a\n",
    "real(a[1])"
   ]
  },
  {
   "cell_type": "code",
   "execution_count": 21,
   "metadata": {
    "collapsed": false
   },
   "outputs": [
    {
     "data": {
      "text/plain": [
       "0.001"
      ]
     },
     "execution_count": 21,
     "metadata": {},
     "output_type": "execute_result"
    }
   ],
   "source": [
    "eps"
   ]
  },
  {
   "cell_type": "code",
   "execution_count": null,
   "metadata": {
    "collapsed": false
   },
   "outputs": [],
   "source": []
  }
 ],
 "metadata": {
  "kernelspec": {
   "display_name": "Python 2",
   "language": "python",
   "name": "python2"
  },
  "language_info": {
   "codemirror_mode": {
    "name": "ipython",
    "version": 2
   },
   "file_extension": ".py",
   "mimetype": "text/x-python",
   "name": "python",
   "nbconvert_exporter": "python",
   "pygments_lexer": "ipython2",
   "version": "2.7.10"
  }
 },
 "nbformat": 4,
 "nbformat_minor": 0
}
