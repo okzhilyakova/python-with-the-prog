{
 "cells": [
  {
   "cell_type": "code",
   "execution_count": 2,
   "metadata": {
    "collapsed": false
   },
   "outputs": [],
   "source": [
    "import numpy as np\n",
    "import copy as cp\n",
    "import random\n",
    "from graphics import *\n",
    "from numpy import *\n",
    "from datetime import datetime, date, time\n",
    "\n",
    "import cmath\n",
    "\n",
    "import sys\n",
    "\n",
    "import math\n",
    "import pylab\n",
    "from matplotlib import mlab\n",
    "import matplotlib.pyplot as plt\n"
   ]
  },
  {
   "cell_type": "code",
   "execution_count": 32,
   "metadata": {
    "collapsed": false
   },
   "outputs": [],
   "source": [
    "import sys\n",
    "def show_sizeof(x, level=0):\n",
    "    res = 0.\n",
    "    if hasattr(x, '__iter__'):\n",
    "        if isinstance(x, np.ndarray):\n",
    "            res += x.nbytes\n",
    "        else:\n",
    "            for xx in x:\n",
    "                res += show_sizeof(xx, level + 1)\n",
    "    return res"
   ]
  },
  {
   "cell_type": "code",
   "execution_count": 33,
   "metadata": {
    "collapsed": false
   },
   "outputs": [],
   "source": [
    "class tree:\n",
    "    def __init__(self, data = 0, N = None, l = None, lm = None, rm = None, r = None, flag = 0):\n",
    "        self.flag = flag\n",
    "        self.data = data\n",
    "        self.N = N\n",
    "        self.l  = l \n",
    "        self.lm = lm\n",
    "        self.rm = rm\n",
    "        self.r  = r\n",
    "        \n",
    "\n",
    "    def create_tree (self, x, y): \n",
    "        n0=0;n1=0;n2=0;n3=0\n",
    "        n_0 = [];n_1 = [];n_2 = [];n_3 = []\n",
    "\n",
    "        self.l = None\n",
    "        self.lm = None\n",
    "        self.rm = None\n",
    "        self.r = None\n",
    "\n",
    "        if self.N[1] > 1:    \n",
    "            xm = self.N[2][0]\n",
    "            ym = self.N[2][1]\n",
    "            \n",
    "            for j in range (0,self.N[1]):\n",
    "                i = self.data[j]\n",
    "                if x[i] < xm:    \n",
    "                    if y[i] < ym:\n",
    "                        n_0.append(i)\n",
    "                        n0=n0+1\n",
    "                    else:\n",
    "                        n_1.append(i)\n",
    "                        n1=n1+1\n",
    "                else:\n",
    "                    if y[i] >= ym:\n",
    "                        n_2.append(i)\n",
    "                        n2=n2+1\n",
    "                    else:\n",
    "                        n_3.append(i)\n",
    "                        n3=n3+1\n",
    "                        \n",
    "            if n0>0:\n",
    "                self.l = tree(n_0,[0+self.N[0], n0, None, None])\n",
    "            if n1>0:\n",
    "                self.lm = tree(n_1, [n0+self.N[0], n1, None, None])\n",
    "            if n2>0:\n",
    "                self.rm = tree(n_2, [n0+n1+self.N[0], n2, None, None])\n",
    "            if n3>0:\n",
    "                self.r = tree(n_3, [n0+n1+n2+self.N[0], n3, None, None])\n",
    "\n"
   ]
  },
  {
   "cell_type": "code",
   "execution_count": 34,
   "metadata": {
    "collapsed": false
   },
   "outputs": [],
   "source": [
    "def mid (t, x,y):    \n",
    "    if t.N[2] == None:\n",
    "        t.N[2] = [0,0]            \n",
    "        for i in range(0, t.N[1]):\n",
    "            t.N[2][0] = t.N[2][0] + x[t.data[i]]\n",
    "            t.N[2][1] = t.N[2][1] + y[t.data[i]]\n",
    "        t.N[2][0] = t.N[2][0]/t.N[1]\n",
    "        t.N[2][1] = t.N[2][1]/t.N[1]\n",
    "        \n",
    "    if (t.N[3] == None):\n",
    "        xmax = x[t.data[0]]; xmin = x[t.data[0]]; ymax = y[t.data[0]]; ymin = y[t.data[0]];\n",
    "        for j in range (0,t.N[1]):\n",
    "            i = t.data[j]\n",
    "            xmax = max(x[i],xmax)\n",
    "            ymax = max(y[i],ymax)\n",
    "            xmin = min(x[i],xmin)\n",
    "            ymin = min(y[i],ymin)\n",
    "        t.N[3] = [xmax, ymax, xmin, ymin]\n",
    "    return t.N\n",
    "     \n"
   ]
  },
  {
   "cell_type": "code",
   "execution_count": 35,
   "metadata": {
    "collapsed": false
   },
   "outputs": [],
   "source": [
    "def count_svd (R, V, tau):\n",
    "    global k\n",
    "    B = np.zeros((R.N[1], V.N[1]), dtype = complex)\n",
    "    for i in range (0, R.N[1]):\n",
    "        for j in range (0, V.N[1]):\n",
    "            lenght = ((x1[R.data[i]]-x2[V.data[j]])**2+(y1[R.data[i]]-y2[V.data[j]])**2)**0.5\n",
    "           # interaction = cmath.exp(complex(0,1)*5*lenght)/lenght\n",
    "            if lenght <> 0:\n",
    "                B[i][j] = cmath.exp(1j*k*lenght)/lenght\n",
    "            else:\n",
    "                B[i][j] = 0\n",
    "    U,s,V = np.linalg.svd(B)\n",
    "    summ_1 = 0.\n",
    "    summ = 0.\n",
    "    summ_up=0.\n",
    "    l = len(s)-1\n",
    "    for s0 in s:\n",
    "        summ=summ + s0**2\n",
    "    summ=summ**0.5\n",
    "    r = 0\n",
    "    for i in range (len(s)):\n",
    "        if summ_up/summ <= 1 - tau:\n",
    "            summ_1 = summ_1 + s[i]**2\n",
    "            summ_up = summ_1**0.5\n",
    "#            sum\n",
    "            r=i+1\n",
    "    #print 'Svs:', s, 'Rank', r, B.shape\n",
    "    U = U[:, :r]\n",
    "    V = V[:r, :]\n",
    "    s = s[:r]\n",
    "    \n",
    "    return U,s,V\n",
    "    \n",
    "        \n"
   ]
  },
  {
   "cell_type": "code",
   "execution_count": 11,
   "metadata": {
    "collapsed": false
   },
   "outputs": [],
   "source": [
    "def pre_count_A (R, V):\n",
    "    \n",
    "    global d\n",
    "    global C0\n",
    "    global k\n",
    "    global nfar\n",
    "    \n",
    "    R.N = mid(R, x1, y1)\n",
    "    V.N = mid(V, x2, y2)\n",
    "\n",
    "    lenghtR = ((R.N[3][0] - R.N[3][2])**2 + (R.N[3][1] - R.N[3][3])**2)**0.5\n",
    "    lenghtV = ((V.N[3][0] - V.N[3][2])**2 + (V.N[3][1] - V.N[3][3])**2)**0.5\n",
    "\n",
    "    lenght = ((R.N[2][0] - V.N[2][0])**2 + (R.N[2][1] - V.N[2][1])**2)**0.5\n",
    "    \n",
    "    d = max(lenghtR, lenghtV)\n",
    "\n",
    "    if (max(d*k/(2*pi), C0)*d>=lenght):\n",
    "    #if d>=lenght:\n",
    "        if(R.l==None)&(R.lm==None)&(R.rm==None)&(R.r==None):\n",
    "            R.create_tree(x1, y1)\n",
    "        if(V.l==None)&(V.lm==None)&(V.rm==None)&(V.r==None):\n",
    "            V.create_tree(x2, y2)\n",
    "\n",
    "        n_R_0 =[]; n_R_1 =[]; n_R_2 =[]; n_R_3 =[]; n_V_0 =[]; n_V_1 =[]; n_V_2 =[]; n_V_3 =[]\n",
    "        \n",
    "        \n",
    "        if (R.N[1]>1):\n",
    "            if (V.N[1]>1):\n",
    "                p = 0#k#!!!!!!!!!!!!!!!!!!!!!!!!!!!!!!!!!\n",
    "                if (R.l<>None):\n",
    "                    if (V.l<>None):\n",
    "                        pre_count_A(R.l, V.l)\n",
    "                    if (V.lm<>None):\n",
    "                        pre_count_A(R.l, V.lm)\n",
    "                    if (V.rm<>None):\n",
    "                        pre_count_A(R.l, V.rm)\n",
    "                    if (V.r<>None):\n",
    "                        pre_count_A(R.l, V.r)\n",
    "\n",
    "\n",
    "\n",
    "                if (R.lm<>None):\n",
    "                    if (V.l<>None):\n",
    "                        pre_count_A(R.lm, V.l)\n",
    "                    if (V.lm<>None):\n",
    "                        pre_count_A(R.lm, V.lm)\n",
    "                    if (V.rm<>None):\n",
    "                        pre_count_A(R.lm, V.rm)\n",
    "                    if (V.r<>None):\n",
    "                        pre_count_A(R.lm, V.r)\n",
    "                  \n",
    "                    \n",
    "                if (R.rm<>None):\n",
    "                    if (V.l<>None):\n",
    "                        pre_count_A(R.rm, V.l)\n",
    "                    if (V.lm<>None):\n",
    "                        pre_count_A(R.rm, V.lm)\n",
    "                    if (V.rm<>None):\n",
    "                        pre_count_A(R.rm, V.rm)\n",
    "                    if (V.r<>None):\n",
    "                        pre_count_A(R.rm, V.r)\n",
    "                   \n",
    "                    \n",
    "                if (R.r<>None):\n",
    "                    if (V.l<>None):\n",
    "                        pre_count_A(R.r, V.l)\n",
    "                    if (V.lm<>None):\n",
    "                        pre_count_A(R.r, V.lm)\n",
    "                    if (V.rm<>None):\n",
    "                        pre_count_A(R.r, V.rm)\n",
    "                    if (V.r<>None):\n",
    "                        pre_count_A(R.r, V.r)\n",
    "                    \n",
    "            else:\n",
    "               \n",
    "                if (R.l<>None):\n",
    "                    pre_count_A(R.l, V)\n",
    "                if (R.lm<>None):\n",
    "                    pre_count_A(R.lm, V)\n",
    "                if (R.rm<>None):\n",
    "                    pre_count_A(R.rm, V)\n",
    "                if (R.r<>None):\n",
    "                    pre_count_A(R.r, V)\n",
    "                \n",
    "        else:\n",
    "            if (V.N[1]>1):\n",
    "                  \n",
    "                if (V.l<>None):\n",
    "                    pre_count_A(R, V.l)\n",
    "                if (V.lm<>None):\n",
    "                    pre_count_A(R, V.lm)\n",
    "                if (V.rm<>None):\n",
    "                    pre_count_A(R, V.rm)\n",
    "                if (V.r<>None):\n",
    "                    pre_count_A(R, V.r)\n",
    "                \n",
    "            \n",
    "        flag = 0\n",
    "        if R.flag > -1:\n",
    "            if (R.l<>None):\n",
    "                n_R_0 = R.l.data\n",
    "                flag = flag + 1\n",
    "            if (R.lm<>None):\n",
    "                n_R_1 = R.lm.data\n",
    "                flag = flag + 1\n",
    "            if (R.rm<>None):\n",
    "                n_R_2 = R.rm.data\n",
    "                flag = flag + 1\n",
    "            if (R.r<>None):\n",
    "                n_R_3 = R.r.data\n",
    "                flag = flag + 1\n",
    "            if flag > 0:\n",
    "                R.data = n_R_0 + n_R_1 + n_R_2 + n_R_3\n",
    "            R.flag = R.flag + 1\n",
    "        \n",
    "        \n",
    "        flag = 0\n",
    "        if V.flag > -1:\n",
    "            if (V.l<>None):\n",
    "                n_V_0 = V.l.data\n",
    "                flag = flag + 1\n",
    "            if (V.lm<>None):\n",
    "                n_V_1 = V.lm.data\n",
    "                flag = flag + 1\n",
    "            if (V.rm<>None):\n",
    "                n_V_2 = V.rm.data\n",
    "                flag = flag + 1\n",
    "            if (V.r<>None):\n",
    "                n_V_3 = V.r.data\n",
    "                flag = flag + 1\n",
    "            if flag > 0:\n",
    "                V.data = n_V_0 + n_V_1 + n_V_2 + n_V_3\n",
    "            V.flag = V.flag + 1\n",
    "            \n",
    "    else:\n",
    "        nfar=nfar+1\n"
   ]
  },
  {
   "cell_type": "code",
   "execution_count": 12,
   "metadata": {
    "collapsed": false
   },
   "outputs": [],
   "source": [
    "#%matplotlib inline\n",
    "def count_A (R, V, tau):\n",
    "    \n",
    "    global k\n",
    "    global nfar1\n",
    "  \n",
    "    R.N = mid(R, x1, y1)\n",
    "    V.N = mid(V, x2, y2)\n",
    "\n",
    "    lenghtR = ((R.N[3][0] - R.N[3][2])**2 + (R.N[3][1] - R.N[3][3])**2)**0.5\n",
    "    lenghtV = ((V.N[3][0] - V.N[3][2])**2 + (V.N[3][1] - V.N[3][3])**2)**0.5\n",
    "\n",
    "    lenght = ((R.N[2][0] - V.N[2][0])**2 + (R.N[2][1] - V.N[2][1])**2)**0.5\n",
    "    \n",
    "    d = max(lenghtR, lenghtV)\n",
    "\n",
    "    if (max(d*k/(2*pi),C0)*d <lenght):\n",
    "    #if d<lenght:            \n",
    "        A = [count_svd(R, V, tau)]\n",
    "    else:\n",
    "        A = []\n",
    "        \n",
    "        if (R.N[1]>1):\n",
    "            if (V.N[1]>1):\n",
    "                p = 0\n",
    "                if (R.l<>None):\n",
    "                    A = A+[[]]\n",
    "                    if (V.l<>None):\n",
    "                        A[p] = A[p] + [count_A(R.l, V.l, tau)]\n",
    "                    if (V.lm<>None):\n",
    "                        A[p] = A[p] + [count_A(R.l, V.lm, tau)]\n",
    "                    if (V.rm<>None):\n",
    "                        A[p] = A[p] + [count_A(R.l, V.rm, tau)]\n",
    "                    if (V.r<>None):\n",
    "                        A[p] = A[p] + [count_A(R.l, V.r, tau)]\n",
    "                    p = p+1\n",
    "\n",
    "\n",
    "                if (R.lm<>None):\n",
    "                    A = A + [[]]\n",
    "                    if (V.l<>None):\n",
    "                       A[p] = A[p] + [count_A(R.lm, V.l, tau)]\n",
    "                    if (V.lm<>None):\n",
    "                       A[p] = A[p] + [count_A(R.lm, V.lm, tau)]\n",
    "                    if (V.rm<>None):\n",
    "                       A[p] = A[p] + [count_A(R.lm, V.rm, tau)]\n",
    "                    if (V.r<>None):\n",
    "                       A[p] = A[p] + [count_A(R.lm, V.r, tau)]\n",
    "                    p = p+1\n",
    "                    \n",
    "                if (R.rm<>None):\n",
    "                    A = A + [[]]\n",
    "                    if (V.l<>None):\n",
    "                       A[p] = A[p] + [count_A(R.rm, V.l, tau)]\n",
    "                    if (V.lm<>None):\n",
    "                       A[p] = A[p] + [count_A(R.rm, V.lm, tau)]\n",
    "                    if (V.rm<>None):\n",
    "                       A[p] = A[p] + [count_A(R.rm, V.rm, tau)]\n",
    "                    if (V.r<>None):\n",
    "                       A[p] = A[p] + [count_A(R.rm, V.r, tau)]\n",
    "                    p = p+1\n",
    "                    \n",
    "                if (R.r<>None):\n",
    "                    A = A + [[]]\n",
    "                    if (V.l<>None):\n",
    "                       A[p] = A[p] + [count_A(R.r, V.l, tau)]\n",
    "                    if (V.lm<>None):\n",
    "                       A[p] = A[p] + [count_A(R.r, V.lm, tau)]\n",
    "                    if (V.rm<>None):\n",
    "                       A[p] = A[p] + [count_A(R.r, V.rm, tau)]\n",
    "                    if (V.r<>None):\n",
    "                       A[p] = A[p] + [count_A(R.r, V.r, tau)]\n",
    "                    \n",
    "            else:\n",
    "                A = A + []\n",
    "                if (R.l<>None):\n",
    "                   A = A + [[count_A(R.l, V, tau)]]\n",
    "                if (R.lm<>None):\n",
    "                   A = A + [[count_A(R.lm, V, tau)]]\n",
    "                if (R.rm<>None):\n",
    "                   A = A + [[count_A(R.rm, V, tau)]]\n",
    "                if (R.r<>None):\n",
    "                   A = A + [[count_A(R.r, V, tau)]]\n",
    "                \n",
    "        else:\n",
    "            if (V.N[1]>1):\n",
    "                A = A + [[]]    \n",
    "                if (V.l<>None):\n",
    "                   A[0] = A[0] + [count_A(R, V.l, tau)]\n",
    "                if (V.lm<>None):\n",
    "                   A[0] = A[0] + [count_A(R, V.lm, tau)]\n",
    "                if (V.rm<>None):\n",
    "                   A[0] = A[0] + [count_A(R, V.rm, tau)]\n",
    "                if (V.r<>None):\n",
    "                   A[0] = A[0] + [count_A(R, V.r, tau)]\n",
    "                \n",
    "            else:\n",
    "                A = [[0]]\n",
    "#        nfar1=nfar1+1      \n",
    "    return A"
   ]
  },
  {
   "cell_type": "markdown",
   "metadata": {},
   "source": [
    "## Create points, set up k"
   ]
  },
  {
   "cell_type": "code",
   "execution_count": 16,
   "metadata": {
    "collapsed": false
   },
   "outputs": [],
   "source": [
    "\n",
    "#k = 0.\n",
    "eps = 0.1\n",
    "nr = 1000\n",
    "nv = 1000\n",
    "k=nr/10\n",
    "\n",
    "\n",
    "x1=[]\n",
    "y1=[]\n",
    "x2=[]\n",
    "y2=[]\n",
    "for i in range (0,nr):\n",
    "    #x1.append(random.randint(10,20))\n",
    "    #y1.append(random.randint(10,20))\n",
    "    x1.append(random.uniform(0,1))\n",
    "    y1.append(random.uniform(0,1))\n",
    "for i in range (0,nv):\n",
    "    #x2.append(random.randint(0,1))\n",
    "    #y2.append(random.randint(0,1))\n",
    "    x2.append(random.uniform(0,1))\n",
    "    y2.append(random.uniform(0,1))\n",
    "    \n",
    "#x2 = x1\n",
    "#y2 = y1\n"
   ]
  },
  {
   "cell_type": "markdown",
   "metadata": {},
   "source": [
    "## Setup trees, and compute SVD of the \"far\" blocks"
   ]
  },
  {
   "cell_type": "code",
   "execution_count": 30,
   "metadata": {
    "collapsed": false,
    "scrolled": true
   },
   "outputs": [],
   "source": [
    "n_r  = []\n",
    "n_v  = []\n",
    "nfar = 0\n",
    "nfar1 = 0\n",
    "for i in range (0,nr):\n",
    "    n_r.append(i)\n",
    "for i in range (0,nv):\n",
    "    n_v.append(i)\n",
    "\n",
    "\n",
    "R = tree(n_r,[0,nr, None, None])\n",
    "V = tree(n_v,[0,nv, None, None])\n",
    "#pre_count_A(R,V)\n",
    "#A = count_A(R, V, 0.1)\n",
    "\n",
    "#R = tree(n_r,[0, nr, None, None])\n",
    "#V = tree(n_v,[0, nv, None, None])\n",
    "eps = 0.00001\n",
    "pre_count_A(R, V)\n",
    "A = count_A(R, V, eps)\n",
    "usual_A = usual_count_A(x1,y1,x2,y2)\n",
    "#    print [show_sizeof(A),show_sizeof(usual_A)]\n",
    "usual_f = usual_dot_Ax(usual_A,x)\n",
    "f = final_dot(x)"
   ]
  },
  {
   "cell_type": "code",
   "execution_count": 37,
   "metadata": {
    "collapsed": false
   },
   "outputs": [
    {
     "name": "stdout",
     "output_type": "stream",
     "text": [
      "Error: 0.00101894184504 Size: 11.823712\n"
     ]
    }
   ],
   "source": [
    "er = np.linalg.norm(f - usual_f)/np.linalg.norm(f)\n",
    "sz = show_sizeof(A)\n",
    "print 'Error:', er, 'Size:'"
   ]
  },
  {
   "cell_type": "code",
   "execution_count": 13,
   "metadata": {
    "collapsed": false
   },
   "outputs": [],
   "source": [
    "def summ(a,b):\n",
    "    res = []\n",
    "    for i in range(0, len(a)):\n",
    "        res.append(a[i]+b[i])\n",
    "    return res\n"
   ]
  },
  {
   "cell_type": "code",
   "execution_count": 14,
   "metadata": {
    "collapsed": false
   },
   "outputs": [],
   "source": [
    "def dot_Mx(A, x, w):\n",
    "    M = cp.deepcopy(A)\n",
    "    if (type(M) == tuple):\n",
    "        U, s, V = M\n",
    "        S = np.zeros((U.shape[1], V.shape[0]), complex)\n",
    "        S[:s.shape[0], :s.shape[0]] = np.diag(s)\n",
    "        n = V.shape[1]\n",
    "        f = np.dot(np.dot(np.dot(U,S),V),x[w:w+n]).tolist()\n",
    "    if M == 0:\n",
    "        f = [0]\n",
    "        n = 1\n",
    "    if type(M) == list:\n",
    "        if M == [0]:\n",
    "            f = [0]\n",
    "            n = 1\n",
    "        if M == []:\n",
    "            f = []\n",
    "            n = 0\n",
    "        else:            \n",
    "            string = M.pop(0)\n",
    "            M3 = M\n",
    "            if (len(string)<>0)and(type(string)<>tuple):\n",
    "                M1 = string.pop(0)\n",
    "                M2 = [string]\n",
    "            else:\n",
    "                M1 = string\n",
    "                M2 = []\n",
    "            (f1, n1) = dot_Mx(M1, x, w)\n",
    "            (f2, n2) = dot_Mx(M2, x, w+n1)\n",
    "            (f3, n3) = dot_Mx(M3, x, w)\n",
    "            \n",
    "            \n",
    "            if f2 <> []:\n",
    "                f = summ(f1, f2)+f3\n",
    "            else:\n",
    "                f = f1+f3\n",
    "            n = n1+n2\n",
    "    return f, n\n"
   ]
  },
  {
   "cell_type": "code",
   "execution_count": 15,
   "metadata": {
    "collapsed": false
   },
   "outputs": [],
   "source": [
    "def final_dot (x):\n",
    "    x_new = []\n",
    "    f_true = []\n",
    "    for i in range(0,nv):\n",
    "        x_new.append(x[V.data[i]])\n",
    "        \n",
    "    f = dot_Mx(A,x_new,0)\n",
    "\n",
    "    for i in range (0, nr):\n",
    "        f_true.append(0)\n",
    "    for i in range (0, nr):\n",
    "        f_true[R.data[i]] = f[0][i]\n",
    "    \n",
    "    #print size(x_new)\n",
    "    \n",
    "    return f_true\n",
    "\n",
    "def final_dot_r (x):\n",
    "    x_new = []\n",
    "    f_true = []\n",
    "    for i in range(0,nv):\n",
    "        x_new.append(x[R.data[i]])\n",
    "        \n",
    "    f = dot_Mx(A_r,x_new,0)\n",
    "\n",
    "    for i in range (0, nr):\n",
    "        f_true.append(0)\n",
    "    for i in range (0, nr):\n",
    "        f_true[V.data[i]] = f[0][i]\n",
    "    \n",
    "    #print size(x_new)\n",
    "    \n",
    "    return f_true"
   ]
  },
  {
   "cell_type": "code",
   "execution_count": 17,
   "metadata": {
    "collapsed": false
   },
   "outputs": [],
   "source": [
    "C0 =1."
   ]
  },
  {
   "cell_type": "code",
   "execution_count": 18,
   "metadata": {
    "collapsed": false
   },
   "outputs": [],
   "source": [
    "x=[]\n",
    "\n",
    "for i in range (0,nv):\n",
    "    x.append(i)\n"
   ]
  },
  {
   "cell_type": "code",
   "execution_count": 19,
   "metadata": {
    "collapsed": false
   },
   "outputs": [
    {
     "name": "stdout",
     "output_type": "stream",
     "text": [
      "100 1.0 0.1\n"
     ]
    }
   ],
   "source": [
    "print k, C0, eps"
   ]
  },
  {
   "cell_type": "code",
   "execution_count": 20,
   "metadata": {
    "collapsed": true
   },
   "outputs": [],
   "source": [
    "#k=nr/10\n",
    "eps=0.1\n",
    "C0=2"
   ]
  },
  {
   "cell_type": "code",
   "execution_count": null,
   "metadata": {
    "collapsed": false
   },
   "outputs": [],
   "source": [
    "#R - приёмник\n",
    "#V - источник\n",
    "nfar=0\n",
    "nfar1=0\n",
    "t = datetime.today()\n",
    "n_r  = []\n",
    "n_v  = []\n",
    "for i in range (0,nr):\n",
    "    n_r.append(i)\n",
    "for i in range (0,nv):\n",
    "    n_v.append(i)\n",
    "\n",
    "\n",
    "R = tree(n_r,[0,nr, None, None])\n",
    "V = tree(n_v,[0,nv, None, None])\n",
    "pre_count_A(R,V)\n",
    "A = count_A(R, V, 0.1)\n",
    "#A_r = count_A(V,R)\n",
    "\"ok\"\n",
    "print datetime.today() - t\n",
    "#print (A[0][0])\n",
    "\n",
    "print k, nfar, nfar1"
   ]
  },
  {
   "cell_type": "code",
   "execution_count": null,
   "metadata": {
    "collapsed": false,
    "scrolled": true
   },
   "outputs": [],
   "source": [
    "x0 = 650; y0 = 650\n",
    "\n",
    "\n",
    "\n",
    "\n",
    "def draw_strings(A, x, y, size_x, size_y):\n",
    "    if (type(A)==list):\n",
    "        n = len(A)\n",
    "        if n<>0:\n",
    "            hight = size_y/n\n",
    "            for i in range (1, n):\n",
    "                string = Line(Point(x, y+i*hight), Point(x+size_x, y+i*hight))\n",
    "                string.setWidth(1)\n",
    "                string.draw(win)\n",
    "            for j in range (0, n):\n",
    "                draw_columns(A[j], x, y+j*hight, size_x, hight)\n",
    "    else:\n",
    "        if A == 0:\n",
    "            rectangle = Rectangle(Point(x, y), Point(x+size_x, y+size_y))\n",
    "            rectangle.setFill('red')\n",
    "            rectangle.draw(win)\n",
    "        else:\n",
    "            rectangle = Rectangle(Point(x, y), Point(x+size_x, y+size_y))\n",
    "            rectangle.setFill('green')\n",
    "            rectangle.draw(win)\n",
    "            \n",
    "    \n",
    "    \n",
    "def draw_columns(A, x, y, size_x, size_y):\n",
    "    if type(A)==list:\n",
    "        n = len(A)\n",
    "        if n<>0:\n",
    "\n",
    "            width = size_x/n\n",
    "            for i in range (1, n):\n",
    "                string = Line(Point(x+i*width, y), Point(x+i*width, y+size_y))\n",
    "                string.setWidth(1)\n",
    "                string.draw(win)\n",
    "            for j in range (0, n):\n",
    "                draw_strings(A[j], x+j*width, y, width, size_y)\n",
    "    else:\n",
    "        if A == 0:\n",
    "            rectangle = Rectangle(Point(x, y), Point(x+size_x, y+size_y))\n",
    "            rectangle.setFill('red')\n",
    "            rectangle.draw(win)\n",
    "        else:\n",
    "            rectangle = Rectangle(Point(x, y), Point(x+size_x, y+size_y))\n",
    "            rectangle.setFill('green')\n",
    "            rectangle.draw(win)\n",
    "\n",
    "        \n",
    "win = GraphWin('A', x0, y0)\n",
    "\n",
    "\n",
    "draw_strings(A, 0., 0., 650.,650.)\n",
    "\n",
    "win.getMouse()\n",
    "win.close()"
   ]
  },
  {
   "cell_type": "code",
   "execution_count": 25,
   "metadata": {
    "collapsed": false
   },
   "outputs": [],
   "source": [
    "def usual_count_A(x1, y1, x2, y2):\n",
    "    #print k\n",
    "    nr = len(x1)\n",
    "    nv = len(x2)\n",
    "    usual_A = np.zeros((nr,nv), complex)\n",
    "    for i in range (0, nr):\n",
    "        for j in range (0, nv):\n",
    "            lenght = ((x1[i]-x2[j])**2+(y1[i]-y2[j])**2)**0.5\n",
    "            if lenght <> 0:\n",
    "                usual_A[i][j] = cmath.exp(complex(0,1)*k*lenght)/lenght\n",
    "            else:\n",
    "                usual_A[i][j] = 0\n",
    "\n",
    "    return usual_A"
   ]
  },
  {
   "cell_type": "code",
   "execution_count": 26,
   "metadata": {
    "collapsed": false
   },
   "outputs": [],
   "source": [
    "def usual_dot_Ax(A,x):\n",
    "    usual_f = np.dot(A,x)\n",
    "        \n",
    "    return usual_f"
   ]
  },
  {
   "cell_type": "code",
   "execution_count": null,
   "metadata": {
    "collapsed": false
   },
   "outputs": [],
   "source": [
    "def norm_ff(f1, f2):\n",
    "    norm_between_f = 0.\n",
    "    norm_f = 0.\n",
    "    for i in range (0,nr):\n",
    "        norm_between_f = norm_between_f+(abs(f1[i]-f2[i]))**2\n",
    "        norm_f = norm_f+abs(f2[i]**2)\n",
    "    norm_f = (norm_f)**0.5\n",
    "    norm_between_f = (norm_between_f**0.5)/norm_f\n",
    "    return norm_between_f"
   ]
  },
  {
   "cell_type": "code",
   "execution_count": null,
   "metadata": {
    "collapsed": false,
    "scrolled": true
   },
   "outputs": [],
   "source": [
    "mat = np.ndarray((nr, nv), np.complex128)\n",
    "for i in range(nr):\n",
    "    mat[:,i] = final_dot(np.eye(nr)[:,i])\n",
    "#print mat\n",
    "\n",
    "#f1 = final_dot(x)\n",
    "#print f1\n",
    "#np.linalg.svd(mat)[1]\n",
    "#print usual_A, mat"
   ]
  },
  {
   "cell_type": "code",
   "execution_count": null,
   "metadata": {
    "collapsed": false,
    "scrolled": true
   },
   "outputs": [],
   "source": [
    "t = datetime.today()\n",
    "usual_A = usual_count_A(x1,y1,x2,y2)\n",
    "usual_f = usual_dot_Ax(usual_A,x)\n",
    "f = final_dot(x)\n",
    "norm_between_f = norm_ff(usual_f, f)\n",
    "print datetime.today()-t\n",
    "print norm_between_f\n",
    "print size(f)\n",
    "print k, C0\n"
   ]
  },
  {
   "cell_type": "code",
   "execution_count": null,
   "metadata": {
    "collapsed": false
   },
   "outputs": [],
   "source": [
    "def norm_A(A, nfar):\n",
    "    global nv\n",
    "    global eps\n",
    "    U,s,V=np.linalg.svd(A)\n",
    "    summ_u=0.\n",
    "    for i in range(0,nv):\n",
    "        summ_u=s[i]**2+summ_u\n",
    "    summ_u=summ_u**0.5\n",
    "    return (nfar**0.5)*eps/summ_u\n",
    "norm_A(usual_A, nfar)"
   ]
  },
  {
   "cell_type": "code",
   "execution_count": null,
   "metadata": {
    "collapsed": false
   },
   "outputs": [],
   "source": [
    "nfar=0"
   ]
  },
  {
   "cell_type": "code",
   "execution_count": null,
   "metadata": {
    "collapsed": false
   },
   "outputs": [],
   "source": [
    "print show_sizeof(A), show_sizeof(usual_A)\n",
    "#usual_A = usual_count_A(x1,y1,x2,y2)\n",
    "print  np.linalg.matrix_rank(usual_A),k\n"
   ]
  },
  {
   "cell_type": "code",
   "execution_count": null,
   "metadata": {
    "collapsed": true
   },
   "outputs": [],
   "source": [
    "k=1\n",
    "eps=0.01\n",
    "C0 = 2"
   ]
  },
  {
   "cell_type": "code",
   "execution_count": null,
   "metadata": {
    "collapsed": false
   },
   "outputs": [],
   "source": [
    "k=100\n",
    "#k=n/10\n",
    "print k, C0"
   ]
  },
  {
   "cell_type": "code",
   "execution_count": null,
   "metadata": {
    "collapsed": true
   },
   "outputs": [],
   "source": [
    "%matplotlib inline\n",
    "def character_of_A(n):\n",
    "    \n",
    "    def final_dot (x):\n",
    "        x_new = []\n",
    "        f_true = []\n",
    "        for i in range(0,nv):\n",
    "            x_new.append(x[V.data[i]])\n",
    "        f = dot_Mx(A,x_new,0)        \n",
    "        for i in range (0, nr):\n",
    "            f_true.append(0)\n",
    "        for i in range (0, nr):\n",
    "            f_true[R.data[i]] = f[0][i]\n",
    "\n",
    "        #print size(x_new)\n",
    "\n",
    "        return f_true\n",
    "    \n",
    "    \n",
    "    global nr \n",
    "    global nv \n",
    "    global x1\n",
    "    global y1\n",
    "    global x2\n",
    "    global y2\n",
    "    global eps\n",
    "    global nfar\n",
    "#   ubrat'\n",
    "   # global k\n",
    "    c=nfar\n",
    "    nfar=0\n",
    "    k = n/10\n",
    "    nr = n\n",
    "    nv = n\n",
    "    x1=[]\n",
    "    y1=[]\n",
    "    x2=[]\n",
    "    y2=[]\n",
    "    for i in range (0,nr):\n",
    "        x1.append(random.uniform(0,1))\n",
    "        y1.append(random.uniform(0,1))\n",
    "    for i in range (0,nv):\n",
    "        x2.append(random.uniform(0,1))\n",
    "        y2.append(random.uniform(0,1))\n",
    "    \n",
    "    #x2 = x1\n",
    "    #y2 = y1\n",
    "    \n",
    "    x=[]\n",
    "\n",
    "    for i in range (0,nv):\n",
    "        x.append(i)\n",
    "    #x = np.arange(nv)    \n",
    "    n_r  = []\n",
    "    n_v  = []\n",
    "    for i in range (0,nr):\n",
    "        n_r.append(i)\n",
    "    for i in range (0,nv):\n",
    "        n_v.append(i)\n",
    "    \n",
    "#    k=300"
   ]
  },
  {
   "cell_type": "code",
   "execution_count": null,
   "metadata": {
    "collapsed": false
   },
   "outputs": [],
   "source": [
    "R = tree(n_r,[0, nr, None, None])\n",
    "V = tree(n_v,[0, nv, None, None])\n",
    "eps = 0.0001\n",
    "pre_count_A(R, V)\n",
    "A = count_A(R, V, eps)\n",
    "usual_A = usual_count_A(x1,y1,x2,y2)\n",
    "#    print [show_sizeof(A),show_sizeof(usual_A)]\n",
    "usual_f = usual_dot_Ax(usual_A,x)\n",
    "f = final_dot(x)"
   ]
  },
  {
   "cell_type": "code",
   "execution_count": null,
   "metadata": {
    "collapsed": false
   },
   "outputs": [],
   "source": [
    "np.linalg.norm(f - usual_f)/np.linalg.norm(f)"
   ]
  },
  {
   "cell_type": "code",
   "execution_count": null,
   "metadata": {
    "collapsed": false,
    "scrolled": false
   },
   "outputs": [],
   "source": [
    "f\n",
    "#    norm_between_f = \n",
    "#    print n, size(x)\n",
    "    c = nfar\n",
    "    print n, k, nfar\n",
    "    return [show_sizeof(A),show_sizeof(usual_A), norm_ff(usual_f, f), np.linalg.matrix_rank(usual_A), norm_A(usual_A, nfar)]\n",
    "    print hi\n",
    "\n",
    "print size(x)\n",
    "\n",
    "n_list = []\n",
    "m = 100\n",
    "for i in range (1, m+1):\n",
    "    n_list.append(10*i) \n",
    "\n",
    "#k=300\n",
    "\n",
    "\n",
    "\n",
    "ylist = [character_of_A(n) for n in n_list]\n",
    "\n",
    "#print ylist[1][0]\n",
    "#ylist2 = [character_of_A(2**n)[1] for n in log_n_list]\n",
    "\n",
    "\n",
    "plt.figure(1)\n",
    "plt.title('Amount of information')\n",
    "plt.xlabel('n')\n",
    "plt.ylabel('Bytes')\n",
    "plt.plot (n_list, [ylist[i][0] for i in range (0,m)])\n",
    "plt.plot (n_list, [ylist[i][1] for i in range (0,m)])\n",
    "plt.figure(2)\n",
    "plt.title('delta f/|f|')\n",
    "plt.xlabel('n')\n",
    "plt.ylabel('delta f/|f|')\n",
    "\n",
    "plt.plot (n_list, [ylist[i][2] for i in range (0,m)])\n",
    "print eps\n",
    "#eps = 1.\n",
    "#plt.plot (n_list, [ylist[i][2] for i in range (0,m)])\n",
    "plt.figure(3)\n",
    "plt.title('Rank usual A')\n",
    "plt.xlabel('n')\n",
    "plt.ylabel('Rank')\n",
    "plt.plot (n_list, [ylist[i][3] for i in range (0,m)])\n",
    "\n",
    "\n",
    "plt.figure(4)\n",
    "plt.title('norm_A F')\n",
    "plt.xlabel('n=10k')\n",
    "plt.ylabel('norm_A F')\n",
    "plt.plot (n_list, [ylist[i][4] for i in range (0,m)])\n",
    "\n",
    "#pylab.plot (log_n_list, ylist2)\n",
    "\n",
    "\n",
    "#plt.show()\n",
    "#print 'k=',k, C0"
   ]
  },
  {
   "cell_type": "markdown",
   "metadata": {
    "collapsed": false
   },
   "source": [
    "len(log_n_list)"
   ]
  }
 ],
 "metadata": {
  "kernelspec": {
   "display_name": "Python 2",
   "language": "python",
   "name": "python2"
  },
  "language_info": {
   "codemirror_mode": {
    "name": "ipython",
    "version": 2
   },
   "file_extension": ".py",
   "mimetype": "text/x-python",
   "name": "python",
   "nbconvert_exporter": "python",
   "pygments_lexer": "ipython2",
   "version": "2.7.10"
  }
 },
 "nbformat": 4,
 "nbformat_minor": 0
}
